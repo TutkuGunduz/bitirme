{
 "cells": [
  {
   "cell_type": "code",
   "execution_count": 29,
   "metadata": {},
   "outputs": [],
   "source": [
    "import tensorflow as tf\n",
    "from scipy.io import loadmat\n",
    "from sklearn.model_selection import train_test_split\n",
    "import seaborn as sn \n",
    "import pandas as pd\n",
    "import matplotlib.pyplot as plt \n",
    "\n",
    "\n",
    "X = loadmat(r'C:\\Users\\Tutku\\PycharmProjects\\pythonProject24\\Indian_pines (1).mat')['indian_pines']\n",
    "Y = loadmat(r'C:\\Users\\Tutku\\PycharmProjects\\pythonProject24\\Indian_pines_gt (1).mat')['indian_pines_gt']\n",
    "\n",
    "x_ = X.reshape((145*145, 220))\n",
    "y = Y.reshape((145*145, 1))"
   ]
  },
  {
   "cell_type": "code",
   "execution_count": 30,
   "metadata": {},
   "outputs": [],
   "source": [
    "from sklearn.preprocessing import StandardScaler\n",
    "sc_X = StandardScaler()\n",
    "\n",
    "x = sc_X.fit_transform(x_)\n",
    "\n",
    "(x_train, x_test, y_train, y_test) = train_test_split(x, y, test_size = 0.25, random_state=0, stratify=y)"
   ]
  },
  {
   "cell_type": "code",
   "execution_count": 3,
   "metadata": {},
   "outputs": [],
   "source": [
    "x_train = tf.keras.utils.normalize(x_train, axis = 1)\n",
    "x_test = tf.keras.utils.normalize(x_test, axis = 1)"
   ]
  },
  {
   "cell_type": "code",
   "execution_count": 38,
   "metadata": {},
   "outputs": [],
   "source": [
    "model = tf.keras.models.Sequential()\n",
    "model.add(tf.keras.layers.Flatten())\n",
    "model.add(tf.keras.layers.Dense(256, activation = tf.nn.relu))\n",
    "model.add(tf.keras.layers.Dense(256, activation = tf.nn.relu))\n",
    "model.add(tf.keras.layers.Dense(17, activation = tf.nn.softmax))\n"
   ]
  },
  {
   "cell_type": "code",
   "execution_count": 32,
   "metadata": {},
   "outputs": [],
   "source": [
    "model.compile(optimizer='adam', loss='sparse_categorical_crossentropy', metrics=['accuracy'])\n",
    "import numpy as np\n",
    "# x_train = np.array(y_train)"
   ]
  },
  {
   "cell_type": "code",
   "execution_count": 33,
   "metadata": {},
   "outputs": [
    {
     "name": "stdout",
     "output_type": "stream",
     "text": [
      "Epoch 1/150\n",
      "62/62 [==============================] - 1s 3ms/step - loss: 1.5692 - accuracy: 0.5337\n",
      "Epoch 2/150\n",
      "62/62 [==============================] - 0s 3ms/step - loss: 0.9854 - accuracy: 0.6393\n",
      "Epoch 3/150\n",
      "62/62 [==============================] - 0s 3ms/step - loss: 0.8211 - accuracy: 0.7065\n",
      "Epoch 4/150\n",
      "62/62 [==============================] - 0s 4ms/step - loss: 0.7875 - accuracy: 0.7123\n",
      "Epoch 5/150\n",
      "62/62 [==============================] - 0s 3ms/step - loss: 0.6891 - accuracy: 0.7458\n",
      "Epoch 6/150\n",
      "62/62 [==============================] - 0s 3ms/step - loss: 0.6521 - accuracy: 0.7595\n",
      "Epoch 7/150\n",
      "62/62 [==============================] - 0s 4ms/step - loss: 0.6140 - accuracy: 0.7705\n",
      "Epoch 8/150\n",
      "62/62 [==============================] - 0s 4ms/step - loss: 0.5826 - accuracy: 0.7782\n",
      "Epoch 9/150\n",
      "62/62 [==============================] - 0s 3ms/step - loss: 0.5823 - accuracy: 0.7808\n",
      "Epoch 10/150\n",
      "62/62 [==============================] - 0s 4ms/step - loss: 0.5331 - accuracy: 0.8037\n",
      "Epoch 11/150\n",
      "62/62 [==============================] - 0s 3ms/step - loss: 0.5147 - accuracy: 0.8036\n",
      "Epoch 12/150\n",
      "62/62 [==============================] - 0s 5ms/step - loss: 0.4992 - accuracy: 0.8085\n",
      "Epoch 13/150\n",
      "62/62 [==============================] - 0s 3ms/step - loss: 0.4857 - accuracy: 0.8092\n",
      "Epoch 14/150\n",
      "62/62 [==============================] - 0s 3ms/step - loss: 0.4522 - accuracy: 0.8276\n",
      "Epoch 15/150\n",
      "62/62 [==============================] - 0s 3ms/step - loss: 0.4464 - accuracy: 0.8316\n",
      "Epoch 16/150\n",
      "62/62 [==============================] - 0s 3ms/step - loss: 0.4252 - accuracy: 0.8366\n",
      "Epoch 17/150\n",
      "62/62 [==============================] - 0s 3ms/step - loss: 0.3975 - accuracy: 0.8528\n",
      "Epoch 18/150\n",
      "62/62 [==============================] - 0s 3ms/step - loss: 0.3933 - accuracy: 0.8508\n",
      "Epoch 19/150\n",
      "62/62 [==============================] - 0s 3ms/step - loss: 0.3944 - accuracy: 0.8501\n",
      "Epoch 20/150\n",
      "62/62 [==============================] - 0s 3ms/step - loss: 0.3704 - accuracy: 0.8615\n",
      "Epoch 21/150\n",
      "62/62 [==============================] - 0s 3ms/step - loss: 0.3515 - accuracy: 0.8675\n",
      "Epoch 22/150\n",
      "62/62 [==============================] - 0s 3ms/step - loss: 0.3527 - accuracy: 0.8616\n",
      "Epoch 23/150\n",
      "62/62 [==============================] - 0s 3ms/step - loss: 0.3286 - accuracy: 0.8763\n",
      "Epoch 24/150\n",
      "62/62 [==============================] - 0s 3ms/step - loss: 0.3226 - accuracy: 0.8789\n",
      "Epoch 25/150\n",
      "62/62 [==============================] - 0s 3ms/step - loss: 0.3203 - accuracy: 0.8748\n",
      "Epoch 26/150\n",
      "62/62 [==============================] - 0s 3ms/step - loss: 0.2960 - accuracy: 0.8876\n",
      "Epoch 27/150\n",
      "62/62 [==============================] - 0s 3ms/step - loss: 0.2969 - accuracy: 0.8911\n",
      "Epoch 28/150\n",
      "62/62 [==============================] - 0s 3ms/step - loss: 0.2784 - accuracy: 0.8975\n",
      "Epoch 29/150\n",
      "62/62 [==============================] - 0s 3ms/step - loss: 0.2669 - accuracy: 0.9040\n",
      "Epoch 30/150\n",
      "62/62 [==============================] - 0s 3ms/step - loss: 0.2695 - accuracy: 0.9000\n",
      "Epoch 31/150\n",
      "62/62 [==============================] - 0s 3ms/step - loss: 0.2704 - accuracy: 0.8987\n",
      "Epoch 32/150\n",
      "62/62 [==============================] - 0s 3ms/step - loss: 0.2286 - accuracy: 0.9176\n",
      "Epoch 33/150\n",
      "62/62 [==============================] - 0s 3ms/step - loss: 0.2234 - accuracy: 0.9213\n",
      "Epoch 34/150\n",
      "62/62 [==============================] - 0s 3ms/step - loss: 0.2169 - accuracy: 0.9202\n",
      "Epoch 35/150\n",
      "62/62 [==============================] - 0s 4ms/step - loss: 0.2118 - accuracy: 0.9234\n",
      "Epoch 36/150\n",
      "62/62 [==============================] - 0s 3ms/step - loss: 0.2070 - accuracy: 0.9285\n",
      "Epoch 37/150\n",
      "62/62 [==============================] - 0s 3ms/step - loss: 0.1919 - accuracy: 0.9338\n",
      "Epoch 38/150\n",
      "62/62 [==============================] - 0s 3ms/step - loss: 0.2027 - accuracy: 0.9289\n",
      "Epoch 39/150\n",
      "62/62 [==============================] - 0s 3ms/step - loss: 0.1846 - accuracy: 0.9345\n",
      "Epoch 40/150\n",
      "62/62 [==============================] - 0s 4ms/step - loss: 0.1723 - accuracy: 0.9379\n",
      "Epoch 41/150\n",
      "62/62 [==============================] - 0s 3ms/step - loss: 0.1867 - accuracy: 0.9334\n",
      "Epoch 42/150\n",
      "62/62 [==============================] - 0s 3ms/step - loss: 0.1672 - accuracy: 0.9442\n",
      "Epoch 43/150\n",
      "62/62 [==============================] - 0s 3ms/step - loss: 0.1488 - accuracy: 0.9505\n",
      "Epoch 44/150\n",
      "62/62 [==============================] - 0s 3ms/step - loss: 0.1468 - accuracy: 0.9467\n",
      "Epoch 45/150\n",
      "62/62 [==============================] - 0s 3ms/step - loss: 0.1354 - accuracy: 0.9574\n",
      "Epoch 46/150\n",
      "62/62 [==============================] - 0s 3ms/step - loss: 0.1393 - accuracy: 0.9541\n",
      "Epoch 47/150\n",
      "62/62 [==============================] - 0s 3ms/step - loss: 0.1434 - accuracy: 0.9506\n",
      "Epoch 48/150\n",
      "62/62 [==============================] - 0s 3ms/step - loss: 0.1273 - accuracy: 0.9564\n",
      "Epoch 49/150\n",
      "62/62 [==============================] - 0s 3ms/step - loss: 0.1267 - accuracy: 0.9586\n",
      "Epoch 50/150\n",
      "62/62 [==============================] - 0s 3ms/step - loss: 0.1102 - accuracy: 0.9667\n",
      "Epoch 51/150\n",
      "62/62 [==============================] - 0s 3ms/step - loss: 0.0967 - accuracy: 0.9730\n",
      "Epoch 52/150\n",
      "62/62 [==============================] - 0s 3ms/step - loss: 0.0948 - accuracy: 0.9717\n",
      "Epoch 53/150\n",
      "62/62 [==============================] - 0s 3ms/step - loss: 0.0893 - accuracy: 0.9754\n",
      "Epoch 54/150\n",
      "62/62 [==============================] - 0s 3ms/step - loss: 0.0976 - accuracy: 0.9708\n",
      "Epoch 55/150\n",
      "62/62 [==============================] - 0s 3ms/step - loss: 0.1113 - accuracy: 0.9636\n",
      "Epoch 56/150\n",
      "62/62 [==============================] - 0s 3ms/step - loss: 0.0817 - accuracy: 0.9778\n",
      "Epoch 57/150\n",
      "62/62 [==============================] - 0s 3ms/step - loss: 0.0797 - accuracy: 0.9779\n",
      "Epoch 58/150\n",
      "62/62 [==============================] - 0s 3ms/step - loss: 0.0740 - accuracy: 0.9803\n",
      "Epoch 59/150\n",
      "62/62 [==============================] - 0s 3ms/step - loss: 0.0816 - accuracy: 0.9741\n",
      "Epoch 60/150\n",
      "62/62 [==============================] - 0s 3ms/step - loss: 0.0727 - accuracy: 0.9815\n",
      "Epoch 61/150\n",
      "62/62 [==============================] - 0s 3ms/step - loss: 0.0666 - accuracy: 0.9834\n",
      "Epoch 62/150\n",
      "62/62 [==============================] - 0s 3ms/step - loss: 0.0616 - accuracy: 0.9850\n",
      "Epoch 63/150\n",
      "62/62 [==============================] - 0s 3ms/step - loss: 0.0613 - accuracy: 0.9833\n",
      "Epoch 64/150\n",
      "62/62 [==============================] - 0s 3ms/step - loss: 0.0645 - accuracy: 0.9835\n",
      "Epoch 65/150\n",
      "62/62 [==============================] - 0s 3ms/step - loss: 0.0572 - accuracy: 0.9858\n",
      "Epoch 66/150\n",
      "62/62 [==============================] - 0s 3ms/step - loss: 0.0455 - accuracy: 0.9903\n",
      "Epoch 67/150\n",
      "62/62 [==============================] - 0s 3ms/step - loss: 0.0412 - accuracy: 0.9923\n",
      "Epoch 68/150\n",
      "62/62 [==============================] - 0s 3ms/step - loss: 0.0398 - accuracy: 0.9911\n",
      "Epoch 69/150\n",
      "62/62 [==============================] - 0s 3ms/step - loss: 0.0376 - accuracy: 0.9941\n",
      "Epoch 70/150\n",
      "62/62 [==============================] - 0s 3ms/step - loss: 0.0678 - accuracy: 0.9775\n",
      "Epoch 71/150\n",
      "62/62 [==============================] - 0s 3ms/step - loss: 0.0473 - accuracy: 0.9890\n",
      "Epoch 72/150\n",
      "62/62 [==============================] - 0s 4ms/step - loss: 0.0529 - accuracy: 0.9853\n",
      "Epoch 73/150\n",
      "62/62 [==============================] - 0s 4ms/step - loss: 0.0822 - accuracy: 0.9706\n",
      "Epoch 74/150\n",
      "62/62 [==============================] - 0s 4ms/step - loss: 0.0610 - accuracy: 0.9826\n",
      "Epoch 75/150\n",
      "62/62 [==============================] - 0s 4ms/step - loss: 0.0346 - accuracy: 0.9943\n",
      "Epoch 76/150\n",
      "62/62 [==============================] - 0s 4ms/step - loss: 0.0282 - accuracy: 0.9951\n",
      "Epoch 77/150\n",
      "62/62 [==============================] - 0s 4ms/step - loss: 0.0259 - accuracy: 0.9967\n",
      "Epoch 78/150\n",
      "62/62 [==============================] - 0s 4ms/step - loss: 0.0290 - accuracy: 0.9949\n",
      "Epoch 79/150\n",
      "62/62 [==============================] - 0s 4ms/step - loss: 0.0184 - accuracy: 0.9986\n",
      "Epoch 80/150\n",
      "62/62 [==============================] - 0s 4ms/step - loss: 0.0141 - accuracy: 0.9997\n",
      "Epoch 81/150\n",
      "62/62 [==============================] - 0s 4ms/step - loss: 0.0129 - accuracy: 0.9995\n",
      "Epoch 82/150\n",
      "62/62 [==============================] - 0s 4ms/step - loss: 0.0127 - accuracy: 0.9992\n",
      "Epoch 83/150\n",
      "62/62 [==============================] - 0s 4ms/step - loss: 0.0108 - accuracy: 0.9999\n",
      "Epoch 84/150\n",
      "62/62 [==============================] - 0s 4ms/step - loss: 0.0101 - accuracy: 0.9998\n",
      "Epoch 85/150\n",
      "62/62 [==============================] - 0s 4ms/step - loss: 0.0097 - accuracy: 0.9997\n",
      "Epoch 86/150\n",
      "62/62 [==============================] - 0s 4ms/step - loss: 0.0158 - accuracy: 0.9978\n",
      "Epoch 87/150\n",
      "62/62 [==============================] - 0s 4ms/step - loss: 0.0538 - accuracy: 0.9859\n",
      "Epoch 88/150\n",
      "62/62 [==============================] - 0s 3ms/step - loss: 0.2682 - accuracy: 0.9080\n",
      "Epoch 89/150\n",
      "62/62 [==============================] - 0s 3ms/step - loss: 0.1430 - accuracy: 0.9480\n",
      "Epoch 90/150\n",
      "62/62 [==============================] - 0s 3ms/step - loss: 0.0484 - accuracy: 0.9854\n",
      "Epoch 91/150\n",
      "62/62 [==============================] - 0s 3ms/step - loss: 0.0288 - accuracy: 0.9926\n",
      "Epoch 92/150\n",
      "62/62 [==============================] - 0s 3ms/step - loss: 0.0117 - accuracy: 0.9997\n",
      "Epoch 93/150\n",
      "62/62 [==============================] - 0s 3ms/step - loss: 0.0087 - accuracy: 0.9997\n",
      "Epoch 94/150\n",
      "62/62 [==============================] - 0s 3ms/step - loss: 0.0076 - accuracy: 0.9998\n",
      "Epoch 95/150\n",
      "62/62 [==============================] - 0s 3ms/step - loss: 0.0065 - accuracy: 1.0000\n",
      "Epoch 96/150\n",
      "62/62 [==============================] - 0s 3ms/step - loss: 0.0065 - accuracy: 1.0000\n",
      "Epoch 97/150\n",
      "62/62 [==============================] - 0s 3ms/step - loss: 0.0057 - accuracy: 1.0000\n",
      "Epoch 98/150\n",
      "62/62 [==============================] - 0s 3ms/step - loss: 0.0054 - accuracy: 1.0000\n",
      "Epoch 99/150\n",
      "62/62 [==============================] - 0s 3ms/step - loss: 0.0051 - accuracy: 1.0000\n",
      "Epoch 100/150\n",
      "62/62 [==============================] - 0s 3ms/step - loss: 0.0048 - accuracy: 1.0000\n",
      "Epoch 101/150\n",
      "62/62 [==============================] - 0s 3ms/step - loss: 0.0045 - accuracy: 1.0000\n",
      "Epoch 102/150\n",
      "62/62 [==============================] - 0s 3ms/step - loss: 0.0044 - accuracy: 1.0000\n",
      "Epoch 103/150\n",
      "62/62 [==============================] - 0s 3ms/step - loss: 0.0041 - accuracy: 1.0000\n",
      "Epoch 104/150\n",
      "62/62 [==============================] - 0s 3ms/step - loss: 0.0037 - accuracy: 1.0000\n",
      "Epoch 105/150\n",
      "62/62 [==============================] - 0s 3ms/step - loss: 0.0039 - accuracy: 1.0000\n",
      "Epoch 106/150\n",
      "62/62 [==============================] - 0s 3ms/step - loss: 0.0037 - accuracy: 1.0000\n",
      "Epoch 107/150\n",
      "62/62 [==============================] - 0s 3ms/step - loss: 0.0034 - accuracy: 1.0000\n",
      "Epoch 108/150\n",
      "62/62 [==============================] - 0s 3ms/step - loss: 0.0034 - accuracy: 1.0000\n",
      "Epoch 109/150\n",
      "62/62 [==============================] - 0s 3ms/step - loss: 0.0032 - accuracy: 1.0000\n",
      "Epoch 110/150\n",
      "62/62 [==============================] - 0s 3ms/step - loss: 0.0030 - accuracy: 1.0000\n",
      "Epoch 111/150\n",
      "62/62 [==============================] - 0s 3ms/step - loss: 0.0031 - accuracy: 1.0000\n",
      "Epoch 112/150\n",
      "62/62 [==============================] - 0s 3ms/step - loss: 0.0031 - accuracy: 1.0000\n",
      "Epoch 113/150\n",
      "62/62 [==============================] - 0s 3ms/step - loss: 0.0027 - accuracy: 1.0000\n",
      "Epoch 114/150\n",
      "62/62 [==============================] - 0s 4ms/step - loss: 0.0026 - accuracy: 1.0000\n",
      "Epoch 115/150\n",
      "62/62 [==============================] - 0s 3ms/step - loss: 0.0025 - accuracy: 1.0000\n",
      "Epoch 116/150\n",
      "62/62 [==============================] - 0s 3ms/step - loss: 0.0025 - accuracy: 1.0000\n",
      "Epoch 117/150\n",
      "62/62 [==============================] - 0s 3ms/step - loss: 0.0024 - accuracy: 1.0000\n",
      "Epoch 118/150\n",
      "62/62 [==============================] - 0s 4ms/step - loss: 0.0022 - accuracy: 1.0000\n",
      "Epoch 119/150\n",
      "62/62 [==============================] - 0s 4ms/step - loss: 0.0022 - accuracy: 1.0000\n",
      "Epoch 120/150\n",
      "62/62 [==============================] - 0s 3ms/step - loss: 0.0022 - accuracy: 1.0000\n",
      "Epoch 121/150\n",
      "62/62 [==============================] - 0s 4ms/step - loss: 0.0019 - accuracy: 1.0000\n",
      "Epoch 122/150\n",
      "62/62 [==============================] - 0s 4ms/step - loss: 0.0020 - accuracy: 1.0000\n",
      "Epoch 123/150\n",
      "62/62 [==============================] - 0s 5ms/step - loss: 0.0020 - accuracy: 1.0000\n",
      "Epoch 124/150\n",
      "62/62 [==============================] - 0s 3ms/step - loss: 0.0018 - accuracy: 1.0000\n",
      "Epoch 125/150\n",
      "62/62 [==============================] - 0s 3ms/step - loss: 0.0019 - accuracy: 1.0000\n",
      "Epoch 126/150\n",
      "62/62 [==============================] - 0s 3ms/step - loss: 0.0018 - accuracy: 1.0000\n",
      "Epoch 127/150\n",
      "62/62 [==============================] - 0s 3ms/step - loss: 0.0016 - accuracy: 1.0000\n",
      "Epoch 128/150\n",
      "62/62 [==============================] - 0s 5ms/step - loss: 0.0015 - accuracy: 1.0000\n",
      "Epoch 129/150\n",
      "62/62 [==============================] - 0s 3ms/step - loss: 0.0015 - accuracy: 1.0000\n",
      "Epoch 130/150\n",
      "62/62 [==============================] - 0s 3ms/step - loss: 0.0014 - accuracy: 1.0000\n",
      "Epoch 131/150\n",
      "62/62 [==============================] - 0s 3ms/step - loss: 0.0014 - accuracy: 1.0000\n",
      "Epoch 132/150\n",
      "62/62 [==============================] - 0s 3ms/step - loss: 0.0013 - accuracy: 1.0000\n",
      "Epoch 133/150\n",
      "62/62 [==============================] - 0s 4ms/step - loss: 0.0013 - accuracy: 1.0000\n",
      "Epoch 134/150\n",
      "62/62 [==============================] - 0s 4ms/step - loss: 0.0012 - accuracy: 1.0000\n",
      "Epoch 135/150\n",
      "62/62 [==============================] - 0s 3ms/step - loss: 0.0012 - accuracy: 1.0000\n",
      "Epoch 136/150\n",
      "62/62 [==============================] - 0s 3ms/step - loss: 0.0011 - accuracy: 1.0000\n",
      "Epoch 137/150\n",
      "62/62 [==============================] - 0s 3ms/step - loss: 0.0011 - accuracy: 1.0000\n",
      "Epoch 138/150\n",
      "62/62 [==============================] - 0s 3ms/step - loss: 0.0011 - accuracy: 1.0000\n",
      "Epoch 139/150\n",
      "62/62 [==============================] - 0s 4ms/step - loss: 0.0010 - accuracy: 1.0000\n",
      "Epoch 140/150\n",
      "62/62 [==============================] - 0s 3ms/step - loss: 0.0011 - accuracy: 1.0000\n",
      "Epoch 141/150\n",
      "62/62 [==============================] - 0s 3ms/step - loss: 0.0011 - accuracy: 1.0000\n",
      "Epoch 142/150\n",
      "62/62 [==============================] - 0s 3ms/step - loss: 9.6466e-04 - accuracy: 1.0000\n",
      "Epoch 143/150\n",
      "62/62 [==============================] - 0s 3ms/step - loss: 9.4519e-04 - accuracy: 1.0000\n",
      "Epoch 144/150\n",
      "62/62 [==============================] - 0s 4ms/step - loss: 8.6356e-04 - accuracy: 1.0000\n",
      "Epoch 145/150\n",
      "62/62 [==============================] - 0s 3ms/step - loss: 8.4066e-04 - accuracy: 1.0000: 0s - loss: 8.3740e-04 - accuracy: \n",
      "Epoch 146/150\n",
      "62/62 [==============================] - 0s 3ms/step - loss: 8.2721e-04 - accuracy: 1.0000\n",
      "Epoch 147/150\n",
      "62/62 [==============================] - 0s 3ms/step - loss: 7.8764e-04 - accuracy: 1.0000\n",
      "Epoch 148/150\n",
      "62/62 [==============================] - 0s 3ms/step - loss: 7.6272e-04 - accuracy: 1.0000\n",
      "Epoch 149/150\n",
      "62/62 [==============================] - 0s 4ms/step - loss: 7.5788e-04 - accuracy: 1.0000\n",
      "Epoch 150/150\n",
      "62/62 [==============================] - 0s 3ms/step - loss: 7.2628e-04 - accuracy: 1.0000\n"
     ]
    },
    {
     "data": {
      "text/plain": [
       "<tensorflow.python.keras.callbacks.History at 0x26dbe4bf3d0>"
      ]
     },
     "execution_count": 33,
     "metadata": {},
     "output_type": "execute_result"
    }
   ],
   "source": [
    "model.fit(x_train, y_train, batch_size=256, epochs=150)"
   ]
  },
  {
   "cell_type": "code",
   "execution_count": 9,
   "metadata": {},
   "outputs": [
    {
     "name": "stderr",
     "output_type": "stream",
     "text": [
      "C:\\Anaconda\\lib\\site-packages\\tensorflow\\python\\keras\\engine\\sequential.py:450: UserWarning: `model.predict_classes()` is deprecated and will be removed after 2021-01-01. Please use instead:* `np.argmax(model.predict(x), axis=-1)`,   if your model does multi-class classification   (e.g. if it uses a `softmax` last-layer activation).* `(model.predict(x) > 0.5).astype(\"int32\")`,   if your model does binary classification   (e.g. if it uses a `sigmoid` last-layer activation).\n",
      "  warnings.warn('`model.predict_classes()` is deprecated and '\n"
     ]
    }
   ],
   "source": [
    "y_pred =  model.predict_classes(x_test)"
   ]
  },
  {
   "cell_type": "code",
   "execution_count": 10,
   "metadata": {},
   "outputs": [
    {
     "data": {
      "text/plain": [
       "array([[2218,    2,   49,   17,   17,   15,   32,    0,   18,    1,   32,\n",
       "          71,   22,    6,  133,   59,    2],\n",
       "       [   3,    8,    0,    0,    0,    0,    0,    0,    0,    0,    0,\n",
       "           0,    0,    0,    0,    0,    0],\n",
       "       [  25,    0,  291,    4,    1,    0,    0,    0,    0,    0,    8,\n",
       "          27,    1,    0,    0,    0,    0],\n",
       "       [  22,    0,    6,  147,    4,    0,    0,    0,    0,    0,    0,\n",
       "          22,    7,    0,    0,    0,    0],\n",
       "       [   8,    0,    2,    7,   41,    0,    0,    0,    0,    0,    0,\n",
       "           0,    1,    0,    0,    0,    0],\n",
       "       [  29,    0,    0,    0,    1,   89,    0,    0,    0,    0,    0,\n",
       "           1,    1,    0,    0,    0,    0],\n",
       "       [  23,    0,    0,    0,    0,    0,  157,    0,    0,    0,    1,\n",
       "           1,    0,    0,    0,    1,    0],\n",
       "       [   1,    0,    0,    0,    0,    0,    0,    6,    0,    0,    0,\n",
       "           0,    0,    0,    0,    0,    0],\n",
       "       [  10,    0,    0,    0,    0,    0,    0,    0,  110,    0,    0,\n",
       "           0,    0,    0,    0,    0,    0],\n",
       "       [   3,    0,    0,    0,    0,    0,    0,    0,    0,    2,    0,\n",
       "           0,    0,    0,    0,    0,    0],\n",
       "       [  29,    0,    4,    0,    0,    0,    0,    0,    0,    0,  195,\n",
       "          14,    1,    0,    0,    0,    0],\n",
       "       [  65,    0,   27,    9,    1,    0,    0,    0,    0,    0,   13,\n",
       "         491,    8,    0,    0,    0,    0],\n",
       "       [  21,    0,    0,    2,    0,    1,    0,    0,    0,    0,    1,\n",
       "           3,  120,    0,    0,    0,    0],\n",
       "       [   3,    0,    0,    0,    0,    0,    0,    0,    0,    0,    0,\n",
       "           0,    0,   48,    0,    0,    0],\n",
       "       [  97,    0,    0,    0,    0,    0,    0,    0,    0,    0,    0,\n",
       "           0,    0,    0,  210,    9,    0],\n",
       "       [  37,    0,    0,    0,    0,    1,    1,    0,    0,    0,    0,\n",
       "           0,    0,    0,    2,   56,    0],\n",
       "       [   5,    0,    0,    0,    0,    0,    0,    0,    0,    0,    0,\n",
       "           2,    1,    0,    0,    0,   15]], dtype=int64)"
      ]
     },
     "execution_count": 10,
     "metadata": {},
     "output_type": "execute_result"
    }
   ],
   "source": [
    "from sklearn.metrics import confusion_matrix\n",
    "cm = confusion_matrix(y_test, y_pred)\n",
    "cm"
   ]
  },
  {
   "cell_type": "code",
   "execution_count": 11,
   "metadata": {},
   "outputs": [
    {
     "data": {
      "image/png": "[encoded data removed]",
      "text/plain": [
       "<Figure size 720x576 with 2 Axes>"
      ]
     },
     "metadata": {
      "needs_background": "light"
     },
     "output_type": "display_data"
    }
   ],
   "source": [
    " df_cm = pd.DataFrame(cm[1:17, 1:17] ) # columns=np.unique(names), index = np.unique(names))\n",
    "\n",
    "\n",
    "plt.figure(figsize = (10,8))\n",
    "\n",
    "sn.set(font_scale=1.4) #for label size\n",
    "\n",
    "sn.heatmap(df_cm, cmap=\"Reds\", annot=True,annot_kws={\"size\": 17}, fmt='d')\n",
    "\n",
    "plt.savefig('cmap.png', dpi=300)"
   ]
  },
  {
   "cell_type": "code",
   "execution_count": 12,
   "metadata": {},
   "outputs": [
    {
     "data": {
      "text/plain": [
       "0.7996956439033669"
      ]
     },
     "execution_count": 12,
     "metadata": {},
     "output_type": "execute_result"
    }
   ],
   "source": [
    "from sklearn.metrics import accuracy_score\n",
    "\n",
    "accuracy_score(y_pred, y_test)"
   ]
  },
  {
   "cell_type": "code",
   "execution_count": 13,
   "metadata": {},
   "outputs": [
    {
     "name": "stdout",
     "output_type": "stream",
     "text": [
      "165/165 [==============================] - 0s 1ms/step - loss: 0.7667 - accuracy: 0.7997\n",
      "0.7666937708854675 0.7996956706047058\n"
     ]
    }
   ],
   "source": [
    "val_loss, val_accuracy = model.evaluate(x_test, y_test)\n",
    "print(val_loss, val_accuracy)"
   ]
  },
  {
   "cell_type": "code",
   "execution_count": 14,
   "metadata": {},
   "outputs": [
    {
     "data": {
      "text/plain": [
       "array([9.7609282e-01, 7.1496939e-17, 7.8696659e-12, 1.0814339e-23,\n",
       "       2.2121840e-12, 6.6834129e-11, 2.3629151e-02, 1.2588827e-13,\n",
       "       9.3850756e-20, 5.8091383e-16, 8.6679409e-14, 3.2511173e-06,\n",
       "       7.5989232e-15, 8.2002378e-15, 2.7899481e-11, 2.7473559e-04,\n",
       "       1.2158900e-21], dtype=float32)"
      ]
     },
     "execution_count": 14,
     "metadata": {},
     "output_type": "execute_result"
    }
   ],
   "source": [
    "y_predicted = model.predict(x_test)\n",
    "y_predicted[15]"
   ]
  },
  {
   "cell_type": "code",
   "execution_count": 15,
   "metadata": {},
   "outputs": [
    {
     "name": "stdout",
     "output_type": "stream",
     "text": [
      "0\n"
     ]
    }
   ],
   "source": [
    "import numpy as np\n",
    "print(np.argmax(y_predicted[15]))"
   ]
  },
  {
   "cell_type": "code",
   "execution_count": 22,
   "metadata": {},
   "outputs": [
    {
     "name": "stdout",
     "output_type": "stream",
     "text": [
      "[-0.11317525 -0.05034236  0.01428746  0.00365109  0.03974178  0.02910662\n",
      "  0.01562484  0.02564924  0.01064904  0.02727946  0.02791215  0.02596736\n",
      "  0.03788744  0.02749315  0.03323734  0.03322718  0.04325523  0.04345582\n",
      "  0.03935009  0.03928297  0.03610404  0.04123425  0.03359268  0.03352221\n",
      "  0.03399358  0.03617417  0.03382424  0.0353526   0.03377112 -0.05607377\n",
      "  0.03970896 -0.05448994  0.04158913  0.04656461  0.06101221  0.04461097\n",
      "  0.00162238 -0.01933227 -0.03012516 -0.0205084  -0.0287734  -0.03424291\n",
      " -0.04090416 -0.03946793 -0.02839626 -0.03020904 -0.04273365 -0.04406334\n",
      " -0.03052475 -0.03940736 -0.04097159 -0.0376745  -0.03418521 -0.03344894\n",
      " -0.02730693 -0.02497047  0.00846373 -0.04093913 -0.03825725 -0.03176716\n",
      " -0.1352994  -0.00218645 -0.01457261 -0.01346359 -0.01254021 -0.0193447\n",
      " -0.01624604 -0.01550833 -0.01698362 -0.02242183 -0.01267843 -0.01718517\n",
      " -0.0206672  -0.00872164 -0.11698964  0.00900374 -0.02914525 -0.02219199\n",
      " -0.00708814 -0.02046618  0.02170112  0.04277601  0.07309791  0.06402478\n",
      "  0.09485145  0.0815683   0.08940329  0.1152587  -0.14529874 -0.14562453\n",
      "  0.10076046  0.05489329  0.05098278  0.101279    0.05022225  0.07749166\n",
      "  0.08695359  0.05699707  0.0727417   0.06298483  0.07631222  0.05914644\n",
      "  0.1598381   0.01870304  0.00771039 -0.09181532  0.12593295 -0.16959895\n",
      "  0.08416749  0.07569741  0.10061865  0.04099356  0.05276683  0.03734818\n",
      "  0.03884411  0.0536411   0.04597359  0.05664356  0.05230497  0.05349682\n",
      "  0.0572015   0.05556574  0.05904916  0.06151021  0.06432153  0.06639023\n",
      "  0.06381413  0.06772417  0.07195341  0.07432356  0.07039545  0.0749116\n",
      "  0.07832452  0.07708447  0.07621282  0.08013693  0.07286403  0.07248556\n",
      "  0.07524394  0.07329911  0.07507308  0.07512723  0.0704908   0.07137287\n",
      "  0.07059111  0.06894039  0.06025274  0.05661252  0.02158515  0.25042505\n",
      " -0.06568231 -0.01112687  0.09688658  0.0633766  -0.05469497  0.0201912\n",
      "  0.15014003 -0.02081293 -0.04304018 -0.06653899 -0.27685723 -0.06114824\n",
      "  0.11388001  0.01351139  0.04161592 -0.00321819  0.03701001  0.03876371\n",
      "  0.04614066  0.02337462  0.04716904  0.04292369  0.04057652  0.03813425\n",
      "  0.03706844  0.04642879  0.03447051  0.03928721  0.04008762  0.04648168\n",
      "  0.04261333  0.04172981  0.04524909  0.0476125   0.05183757  0.05323598\n",
      "  0.0490669   0.05258479  0.04979255  0.0500127   0.05763574  0.05336405\n",
      "  0.05460996  0.05059903  0.04114668  0.04687433  0.04020993  0.02653054\n",
      "  0.05249346  0.0425349   0.04653046  0.04045555  0.0387255   0.04332811\n",
      "  0.02448861  0.03119878  0.02967485  0.04294678  0.03382848  0.04695633\n",
      "  0.03231035  0.04037748  0.0127713   0.03956261  0.04627428  0.02902704\n",
      "  0.06956594  0.03413137 -0.34585831 -0.1910668 ]\n"
     ]
    }
   ],
   "source": [
    "print(x_train[155])"
   ]
  },
  {
   "cell_type": "code",
   "execution_count": null,
   "metadata": {},
   "outputs": [],
   "source": []
  }
 ],
 "metadata": {
  "kernelspec": {
   "display_name": "Python 3",
   "language": "python",
   "name": "python3"
  },
  "language_info": {
   "codemirror_mode": {
    "name": "ipython",
    "version": 3
   },
   "file_extension": ".py",
   "mimetype": "text/x-python",
   "name": "python",
   "nbconvert_exporter": "python",
   "pygments_lexer": "ipython3",
   "version": "3.8.5"
  }
 },
 "nbformat": 4,
 "nbformat_minor": 4
}

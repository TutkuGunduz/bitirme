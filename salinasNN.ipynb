{
 "cells": [
  {
   "cell_type": "code",
   "execution_count": 4,
   "metadata": {},
   "outputs": [
    {
     "name": "stdout",
     "output_type": "stream",
     "text": [
      "(111104, 224) (111104, 1)\n"
     ]
    }
   ],
   "source": [
    "import tensorflow as tf\n",
    "from scipy.io import loadmat\n",
    "from sklearn.model_selection import train_test_split\n",
    "import seaborn as sn \n",
    "import pandas as pd\n",
    "import matplotlib.pyplot as plt \n",
    "\n",
    "X= loadmat(r'C:\\Users\\Tutku\\PycharmProjects\\pythonProject24\\Salinas.mat')['salinas']\n",
    "Y= loadmat(r'C:\\Users\\Tutku\\PycharmProjects\\pythonProject24\\Salinas_gt.mat')['salinas_gt']\n",
    "\n",
    "x_ = X.reshape((512*217, 224))\n",
    "y = Y.reshape((512*217, 1))\n",
    "print(x_.shape, y_.shape)"
   ]
  },
  {
   "cell_type": "code",
   "execution_count": 5,
   "metadata": {},
   "outputs": [],
   "source": [
    "from sklearn.preprocessing import StandardScaler\n",
    "sc_X = StandardScaler()\n",
    "\n",
    "x = sc_X.fit_transform(x_)\n",
    "\n",
    "(x_train, x_test, y_train, y_test) = train_test_split(x, y, test_size = 0.25, random_state=0, stratify=y)"
   ]
  },
  {
   "cell_type": "code",
   "execution_count": 6,
   "metadata": {},
   "outputs": [],
   "source": [
    "x_train = tf.keras.utils.normalize(x_train, axis = 1)\n",
    "x_test = tf.keras.utils.normalize(x_test, axis = 1)"
   ]
  },
  {
   "cell_type": "code",
   "execution_count": 10,
   "metadata": {},
   "outputs": [],
   "source": [
    "model = tf.keras.models.Sequential()\n",
    "model.add(tf.keras.layers.Flatten())\n",
    "model.add(tf.keras.layers.Dense(256, activation = tf.nn.relu))\n",
    "model.add(tf.keras.layers.Dense(256, activation = tf.nn.relu))\n",
    "model.add(tf.keras.layers.Dense(17, activation = tf.nn.softmax))"
   ]
  },
  {
   "cell_type": "code",
   "execution_count": 11,
   "metadata": {},
   "outputs": [],
   "source": [
    "model.compile(optimizer='adam', loss='sparse_categorical_crossentropy', metrics=['accuracy'])\n",
    "import numpy as np"
   ]
  },
  {
   "cell_type": "code",
   "execution_count": 12,
   "metadata": {},
   "outputs": [
    {
     "name": "stdout",
     "output_type": "stream",
     "text": [
      "Epoch 1/150\n",
      "326/326 [==============================] - 2s 4ms/step - loss: 1.1923 - accuracy: 0.6429\n",
      "Epoch 2/150\n",
      "326/326 [==============================] - 1s 4ms/step - loss: 0.5028 - accuracy: 0.8025\n",
      "Epoch 3/150\n",
      "326/326 [==============================] - 1s 3ms/step - loss: 0.4099 - accuracy: 0.8432\n",
      "Epoch 4/150\n",
      "326/326 [==============================] - 1s 4ms/step - loss: 0.3631 - accuracy: 0.8642\n",
      "Epoch 5/150\n",
      "326/326 [==============================] - 1s 3ms/step - loss: 0.3355 - accuracy: 0.8742\n",
      "Epoch 6/150\n",
      "326/326 [==============================] - 1s 4ms/step - loss: 0.3108 - accuracy: 0.8862\n",
      "Epoch 7/150\n",
      "326/326 [==============================] - 1s 3ms/step - loss: 0.2992 - accuracy: 0.8889\n",
      "Epoch 8/150\n",
      "326/326 [==============================] - 1s 4ms/step - loss: 0.2833 - accuracy: 0.8945\n",
      "Epoch 9/150\n",
      "326/326 [==============================] - 1s 4ms/step - loss: 0.2735 - accuracy: 0.8980\n",
      "Epoch 10/150\n",
      "326/326 [==============================] - 1s 4ms/step - loss: 0.2694 - accuracy: 0.8999\n",
      "Epoch 11/150\n",
      "326/326 [==============================] - 1s 4ms/step - loss: 0.2594 - accuracy: 0.9020\n",
      "Epoch 12/150\n",
      "326/326 [==============================] - 1s 3ms/step - loss: 0.2470 - accuracy: 0.9074\n",
      "Epoch 13/150\n",
      "326/326 [==============================] - 1s 3ms/step - loss: 0.2484 - accuracy: 0.9060\n",
      "Epoch 14/150\n",
      "326/326 [==============================] - 1s 4ms/step - loss: 0.2425 - accuracy: 0.9093\n",
      "Epoch 15/150\n",
      "326/326 [==============================] - 1s 4ms/step - loss: 0.2372 - accuracy: 0.9104\n",
      "Epoch 16/150\n",
      "326/326 [==============================] - 1s 4ms/step - loss: 0.2321 - accuracy: 0.9126\n",
      "Epoch 17/150\n",
      "326/326 [==============================] - 1s 4ms/step - loss: 0.2319 - accuracy: 0.9118\n",
      "Epoch 18/150\n",
      "326/326 [==============================] - 1s 4ms/step - loss: 0.2240 - accuracy: 0.9151\n",
      "Epoch 19/150\n",
      "326/326 [==============================] - 1s 4ms/step - loss: 0.2191 - accuracy: 0.9171\n",
      "Epoch 20/150\n",
      "326/326 [==============================] - 1s 3ms/step - loss: 0.2181 - accuracy: 0.9167\n",
      "Epoch 21/150\n",
      "326/326 [==============================] - 1s 4ms/step - loss: 0.2146 - accuracy: 0.9182\n",
      "Epoch 22/150\n",
      "326/326 [==============================] - 1s 4ms/step - loss: 0.2134 - accuracy: 0.9176\n",
      "Epoch 23/150\n",
      "326/326 [==============================] - 1s 4ms/step - loss: 0.2093 - accuracy: 0.9189\n",
      "Epoch 24/150\n",
      "326/326 [==============================] - 1s 4ms/step - loss: 0.2039 - accuracy: 0.9226\n",
      "Epoch 25/150\n",
      "326/326 [==============================] - 1s 4ms/step - loss: 0.2065 - accuracy: 0.9204\n",
      "Epoch 26/150\n",
      "326/326 [==============================] - 1s 3ms/step - loss: 0.2018 - accuracy: 0.9225\n",
      "Epoch 27/150\n",
      "326/326 [==============================] - 1s 4ms/step - loss: 0.1986 - accuracy: 0.9237\n",
      "Epoch 28/150\n",
      "326/326 [==============================] - 1s 4ms/step - loss: 0.1959 - accuracy: 0.9247\n",
      "Epoch 29/150\n",
      "326/326 [==============================] - 1s 4ms/step - loss: 0.1921 - accuracy: 0.9270\n",
      "Epoch 30/150\n",
      "326/326 [==============================] - 1s 4ms/step - loss: 0.1905 - accuracy: 0.9253\n",
      "Epoch 31/150\n",
      "326/326 [==============================] - 1s 4ms/step - loss: 0.1919 - accuracy: 0.9257\n",
      "Epoch 32/150\n",
      "326/326 [==============================] - 1s 4ms/step - loss: 0.1898 - accuracy: 0.9275\n",
      "Epoch 33/150\n",
      "326/326 [==============================] - 1s 4ms/step - loss: 0.1858 - accuracy: 0.9289\n",
      "Epoch 34/150\n",
      "326/326 [==============================] - 1s 5ms/step - loss: 0.1866 - accuracy: 0.9286\n",
      "Epoch 35/150\n",
      "326/326 [==============================] - 1s 4ms/step - loss: 0.1834 - accuracy: 0.9294\n",
      "Epoch 36/150\n",
      "326/326 [==============================] - 1s 4ms/step - loss: 0.1845 - accuracy: 0.9274\n",
      "Epoch 37/150\n",
      "326/326 [==============================] - 1s 4ms/step - loss: 0.1820 - accuracy: 0.9302\n",
      "Epoch 38/150\n",
      "326/326 [==============================] - 2s 5ms/step - loss: 0.1767 - accuracy: 0.9305\n",
      "Epoch 39/150\n",
      "326/326 [==============================] - 1s 4ms/step - loss: 0.1770 - accuracy: 0.9321\n",
      "Epoch 40/150\n",
      "326/326 [==============================] - 1s 4ms/step - loss: 0.1804 - accuracy: 0.9292\n",
      "Epoch 41/150\n",
      "326/326 [==============================] - 1s 4ms/step - loss: 0.1763 - accuracy: 0.9315\n",
      "Epoch 42/150\n",
      "326/326 [==============================] - 2s 5ms/step - loss: 0.1749 - accuracy: 0.9331\n",
      "Epoch 43/150\n",
      "326/326 [==============================] - 1s 4ms/step - loss: 0.1722 - accuracy: 0.9320\n",
      "Epoch 44/150\n",
      "326/326 [==============================] - 1s 4ms/step - loss: 0.1713 - accuracy: 0.9334\n",
      "Epoch 45/150\n",
      "326/326 [==============================] - 1s 5ms/step - loss: 0.1675 - accuracy: 0.9349\n",
      "Epoch 46/150\n",
      "326/326 [==============================] - 1s 4ms/step - loss: 0.1714 - accuracy: 0.9333\n",
      "Epoch 47/150\n",
      "326/326 [==============================] - 1s 5ms/step - loss: 0.1647 - accuracy: 0.9349\n",
      "Epoch 48/150\n",
      "326/326 [==============================] - 1s 4ms/step - loss: 0.1706 - accuracy: 0.9344\n",
      "Epoch 49/150\n",
      "326/326 [==============================] - 1s 4ms/step - loss: 0.1618 - accuracy: 0.9372\n",
      "Epoch 50/150\n",
      "326/326 [==============================] - 1s 4ms/step - loss: 0.1641 - accuracy: 0.9361\n",
      "Epoch 51/150\n",
      "326/326 [==============================] - 1s 4ms/step - loss: 0.1665 - accuracy: 0.9340\n",
      "Epoch 52/150\n",
      "326/326 [==============================] - 2s 5ms/step - loss: 0.1611 - accuracy: 0.9376\n",
      "Epoch 53/150\n",
      "326/326 [==============================] - 1s 4ms/step - loss: 0.1620 - accuracy: 0.9377\n",
      "Epoch 54/150\n",
      "326/326 [==============================] - 1s 4ms/step - loss: 0.1592 - accuracy: 0.9381\n",
      "Epoch 55/150\n",
      "326/326 [==============================] - 1s 4ms/step - loss: 0.1576 - accuracy: 0.9380\n",
      "Epoch 56/150\n",
      "326/326 [==============================] - 1s 4ms/step - loss: 0.1573 - accuracy: 0.9399\n",
      "Epoch 57/150\n",
      "326/326 [==============================] - 1s 4ms/step - loss: 0.1556 - accuracy: 0.9405\n",
      "Epoch 58/150\n",
      "326/326 [==============================] - 1s 4ms/step - loss: 0.1563 - accuracy: 0.9400\n",
      "Epoch 59/150\n",
      "326/326 [==============================] - 1s 4ms/step - loss: 0.1558 - accuracy: 0.9388\n",
      "Epoch 60/150\n",
      "326/326 [==============================] - 1s 4ms/step - loss: 0.1550 - accuracy: 0.9395\n",
      "Epoch 61/150\n",
      "326/326 [==============================] - 1s 4ms/step - loss: 0.1510 - accuracy: 0.9416\n",
      "Epoch 62/150\n",
      "326/326 [==============================] - 1s 4ms/step - loss: 0.1523 - accuracy: 0.9421\n",
      "Epoch 63/150\n",
      "326/326 [==============================] - 1s 4ms/step - loss: 0.1533 - accuracy: 0.9406\n",
      "Epoch 64/150\n",
      "326/326 [==============================] - 1s 4ms/step - loss: 0.1526 - accuracy: 0.9409\n",
      "Epoch 65/150\n",
      "326/326 [==============================] - 1s 4ms/step - loss: 0.1507 - accuracy: 0.9422\n",
      "Epoch 66/150\n",
      "326/326 [==============================] - 1s 4ms/step - loss: 0.1460 - accuracy: 0.9431\n",
      "Epoch 67/150\n",
      "326/326 [==============================] - 1s 4ms/step - loss: 0.1475 - accuracy: 0.9432\n",
      "Epoch 68/150\n",
      "326/326 [==============================] - 1s 4ms/step - loss: 0.1469 - accuracy: 0.9424\n",
      "Epoch 69/150\n",
      "326/326 [==============================] - 1s 4ms/step - loss: 0.1475 - accuracy: 0.9427\n",
      "Epoch 70/150\n",
      "326/326 [==============================] - 1s 4ms/step - loss: 0.1434 - accuracy: 0.9437\n",
      "Epoch 71/150\n",
      "326/326 [==============================] - 1s 4ms/step - loss: 0.1419 - accuracy: 0.9453\n",
      "Epoch 72/150\n",
      "326/326 [==============================] - 1s 4ms/step - loss: 0.1425 - accuracy: 0.9457\n",
      "Epoch 73/150\n",
      "326/326 [==============================] - 1s 4ms/step - loss: 0.1415 - accuracy: 0.9455\n",
      "Epoch 74/150\n",
      "326/326 [==============================] - 1s 4ms/step - loss: 0.1393 - accuracy: 0.9458\n",
      "Epoch 75/150\n",
      "326/326 [==============================] - 1s 4ms/step - loss: 0.1444 - accuracy: 0.9438\n",
      "Epoch 76/150\n",
      "326/326 [==============================] - 1s 4ms/step - loss: 0.1399 - accuracy: 0.9459\n",
      "Epoch 77/150\n",
      "326/326 [==============================] - 1s 4ms/step - loss: 0.1409 - accuracy: 0.9444\n",
      "Epoch 78/150\n",
      "326/326 [==============================] - 1s 4ms/step - loss: 0.1380 - accuracy: 0.9462\n",
      "Epoch 79/150\n",
      "326/326 [==============================] - 1s 4ms/step - loss: 0.1360 - accuracy: 0.9474\n",
      "Epoch 80/150\n",
      "326/326 [==============================] - 1s 4ms/step - loss: 0.1376 - accuracy: 0.9452\n",
      "Epoch 81/150\n",
      "326/326 [==============================] - 1s 4ms/step - loss: 0.1364 - accuracy: 0.9470\n",
      "Epoch 82/150\n",
      "326/326 [==============================] - 1s 4ms/step - loss: 0.1341 - accuracy: 0.9474\n",
      "Epoch 83/150\n",
      "326/326 [==============================] - 1s 4ms/step - loss: 0.1342 - accuracy: 0.9474\n",
      "Epoch 84/150\n",
      "326/326 [==============================] - 1s 4ms/step - loss: 0.1335 - accuracy: 0.9480\n",
      "Epoch 85/150\n",
      "326/326 [==============================] - 1s 4ms/step - loss: 0.1373 - accuracy: 0.9473\n",
      "Epoch 86/150\n",
      "326/326 [==============================] - 1s 4ms/step - loss: 0.1313 - accuracy: 0.9485\n",
      "Epoch 87/150\n",
      "326/326 [==============================] - 1s 4ms/step - loss: 0.1303 - accuracy: 0.9490\n",
      "Epoch 88/150\n",
      "326/326 [==============================] - 1s 4ms/step - loss: 0.1264 - accuracy: 0.9511\n",
      "Epoch 89/150\n",
      "326/326 [==============================] - 1s 4ms/step - loss: 0.1316 - accuracy: 0.9488\n",
      "Epoch 90/150\n",
      "326/326 [==============================] - 1s 4ms/step - loss: 0.1307 - accuracy: 0.9481\n",
      "Epoch 91/150\n",
      "326/326 [==============================] - 1s 4ms/step - loss: 0.1304 - accuracy: 0.9495\n",
      "Epoch 92/150\n",
      "326/326 [==============================] - 1s 4ms/step - loss: 0.1269 - accuracy: 0.9516\n",
      "Epoch 93/150\n",
      "326/326 [==============================] - 1s 4ms/step - loss: 0.1308 - accuracy: 0.9481\n",
      "Epoch 94/150\n",
      "326/326 [==============================] - 1s 4ms/step - loss: 0.1251 - accuracy: 0.9511\n",
      "Epoch 95/150\n",
      "326/326 [==============================] - 1s 4ms/step - loss: 0.1283 - accuracy: 0.9496\n",
      "Epoch 96/150\n",
      "326/326 [==============================] - 1s 4ms/step - loss: 0.1228 - accuracy: 0.9521\n",
      "Epoch 97/150\n",
      "326/326 [==============================] - 1s 4ms/step - loss: 0.1261 - accuracy: 0.9508\n",
      "Epoch 98/150\n",
      "326/326 [==============================] - 1s 4ms/step - loss: 0.1217 - accuracy: 0.9528\n",
      "Epoch 99/150\n",
      "326/326 [==============================] - 1s 4ms/step - loss: 0.1228 - accuracy: 0.9518\n",
      "Epoch 100/150\n",
      "326/326 [==============================] - 1s 4ms/step - loss: 0.1281 - accuracy: 0.9502\n",
      "Epoch 101/150\n",
      "326/326 [==============================] - 1s 4ms/step - loss: 0.1204 - accuracy: 0.9532\n",
      "Epoch 102/150\n",
      "326/326 [==============================] - 1s 4ms/step - loss: 0.1164 - accuracy: 0.9549\n",
      "Epoch 103/150\n",
      "326/326 [==============================] - 1s 4ms/step - loss: 0.1229 - accuracy: 0.9524\n",
      "Epoch 104/150\n",
      "326/326 [==============================] - 1s 4ms/step - loss: 0.1235 - accuracy: 0.9517\n",
      "Epoch 105/150\n",
      "326/326 [==============================] - 1s 4ms/step - loss: 0.1180 - accuracy: 0.9540\n",
      "Epoch 106/150\n",
      "326/326 [==============================] - 1s 4ms/step - loss: 0.1215 - accuracy: 0.9531\n",
      "Epoch 107/150\n",
      "326/326 [==============================] - 1s 4ms/step - loss: 0.1186 - accuracy: 0.9523\n",
      "Epoch 108/150\n",
      "326/326 [==============================] - 1s 4ms/step - loss: 0.1175 - accuracy: 0.9543\n",
      "Epoch 109/150\n",
      "326/326 [==============================] - 1s 4ms/step - loss: 0.1148 - accuracy: 0.9556\n",
      "Epoch 110/150\n",
      "326/326 [==============================] - 1s 4ms/step - loss: 0.1185 - accuracy: 0.9536\n",
      "Epoch 111/150\n",
      "326/326 [==============================] - 1s 4ms/step - loss: 0.1132 - accuracy: 0.9565\n",
      "Epoch 112/150\n",
      "326/326 [==============================] - 1s 3ms/step - loss: 0.1182 - accuracy: 0.9537\n",
      "Epoch 113/150\n",
      "326/326 [==============================] - ETA: 0s - loss: 0.1152 - accuracy: 0.95 - 1s 3ms/step - loss: 0.1153 - accuracy: 0.9558\n",
      "Epoch 114/150\n",
      "326/326 [==============================] - 1s 3ms/step - loss: 0.1136 - accuracy: 0.9569\n",
      "Epoch 115/150\n",
      "326/326 [==============================] - 1s 3ms/step - loss: 0.1154 - accuracy: 0.9556\n",
      "Epoch 116/150\n",
      "326/326 [==============================] - 1s 3ms/step - loss: 0.1172 - accuracy: 0.9551\n",
      "Epoch 117/150\n",
      "326/326 [==============================] - 1s 3ms/step - loss: 0.1128 - accuracy: 0.9563\n",
      "Epoch 118/150\n",
      "326/326 [==============================] - 1s 3ms/step - loss: 0.1114 - accuracy: 0.9573\n",
      "Epoch 119/150\n",
      "326/326 [==============================] - 1s 3ms/step - loss: 0.1133 - accuracy: 0.9562\n",
      "Epoch 120/150\n",
      "326/326 [==============================] - 1s 3ms/step - loss: 0.1085 - accuracy: 0.9579\n",
      "Epoch 121/150\n",
      "326/326 [==============================] - 1s 3ms/step - loss: 0.1139 - accuracy: 0.9556\n",
      "Epoch 122/150\n",
      "326/326 [==============================] - 1s 3ms/step - loss: 0.1061 - accuracy: 0.9581\n",
      "Epoch 123/150\n",
      "326/326 [==============================] - 1s 3ms/step - loss: 0.1126 - accuracy: 0.9563\n",
      "Epoch 124/150\n",
      "326/326 [==============================] - 1s 4ms/step - loss: 0.1132 - accuracy: 0.9560\n",
      "Epoch 125/150\n",
      "326/326 [==============================] - 1s 4ms/step - loss: 0.1059 - accuracy: 0.9597\n",
      "Epoch 126/150\n",
      "326/326 [==============================] - 1s 4ms/step - loss: 0.1104 - accuracy: 0.9580\n",
      "Epoch 127/150\n",
      "326/326 [==============================] - 1s 4ms/step - loss: 0.1055 - accuracy: 0.9585\n",
      "Epoch 128/150\n",
      "326/326 [==============================] - 1s 4ms/step - loss: 0.1068 - accuracy: 0.9579\n",
      "Epoch 129/150\n",
      "326/326 [==============================] - 1s 3ms/step - loss: 0.1049 - accuracy: 0.9591\n",
      "Epoch 130/150\n",
      "326/326 [==============================] - 1s 3ms/step - loss: 0.1057 - accuracy: 0.9587\n",
      "Epoch 131/150\n",
      "326/326 [==============================] - 1s 3ms/step - loss: 0.1023 - accuracy: 0.9618\n",
      "Epoch 132/150\n",
      "326/326 [==============================] - 1s 3ms/step - loss: 0.1046 - accuracy: 0.9606\n",
      "Epoch 133/150\n",
      "326/326 [==============================] - 1s 3ms/step - loss: 0.1016 - accuracy: 0.9607\n",
      "Epoch 134/150\n",
      "326/326 [==============================] - 1s 4ms/step - loss: 0.1042 - accuracy: 0.9590\n",
      "Epoch 135/150\n",
      "326/326 [==============================] - 1s 4ms/step - loss: 0.0997 - accuracy: 0.9615\n",
      "Epoch 136/150\n",
      "326/326 [==============================] - 1s 4ms/step - loss: 0.1005 - accuracy: 0.9615\n",
      "Epoch 137/150\n",
      "326/326 [==============================] - 1s 4ms/step - loss: 0.1028 - accuracy: 0.9603\n",
      "Epoch 138/150\n",
      "326/326 [==============================] - 1s 4ms/step - loss: 0.1001 - accuracy: 0.9611\n",
      "Epoch 139/150\n",
      "326/326 [==============================] - 1s 4ms/step - loss: 0.1011 - accuracy: 0.9606\n",
      "Epoch 140/150\n",
      "326/326 [==============================] - 1s 4ms/step - loss: 0.1001 - accuracy: 0.9612\n",
      "Epoch 141/150\n",
      "326/326 [==============================] - 1s 3ms/step - loss: 0.1000 - accuracy: 0.9610\n",
      "Epoch 142/150\n",
      "326/326 [==============================] - 1s 3ms/step - loss: 0.0969 - accuracy: 0.9619\n",
      "Epoch 143/150\n",
      "326/326 [==============================] - 1s 3ms/step - loss: 0.0940 - accuracy: 0.9639\n",
      "Epoch 144/150\n",
      "326/326 [==============================] - 1s 3ms/step - loss: 0.0956 - accuracy: 0.9630\n",
      "Epoch 145/150\n",
      "326/326 [==============================] - 1s 3ms/step - loss: 0.0984 - accuracy: 0.9605\n",
      "Epoch 146/150\n",
      "326/326 [==============================] - 1s 3ms/step - loss: 0.0978 - accuracy: 0.9625\n",
      "Epoch 147/150\n",
      "326/326 [==============================] - 1s 3ms/step - loss: 0.0950 - accuracy: 0.9631\n",
      "Epoch 148/150\n",
      "326/326 [==============================] - 1s 4ms/step - loss: 0.0939 - accuracy: 0.9637\n",
      "Epoch 149/150\n",
      "326/326 [==============================] - 1s 3ms/step - loss: 0.0959 - accuracy: 0.9632\n",
      "Epoch 150/150\n",
      "326/326 [==============================] - 1s 3ms/step - loss: 0.0930 - accuracy: 0.9633\n"
     ]
    },
    {
     "data": {
      "text/plain": [
       "<tensorflow.python.keras.callbacks.History at 0x1d7de2e3d90>"
      ]
     },
     "execution_count": 12,
     "metadata": {},
     "output_type": "execute_result"
    }
   ],
   "source": [
    "model.fit(x_train, y_train, batch_size=256, epochs=150)"
   ]
  },
  {
   "cell_type": "code",
   "execution_count": 13,
   "metadata": {},
   "outputs": [
    {
     "name": "stderr",
     "output_type": "stream",
     "text": [
      "C:\\Anaconda\\lib\\site-packages\\tensorflow\\python\\keras\\engine\\sequential.py:450: UserWarning: `model.predict_classes()` is deprecated and will be removed after 2021-01-01. Please use instead:* `np.argmax(model.predict(x), axis=-1)`,   if your model does multi-class classification   (e.g. if it uses a `softmax` last-layer activation).* `(model.predict(x) > 0.5).astype(\"int32\")`,   if your model does binary classification   (e.g. if it uses a `sigmoid` last-layer activation).\n",
      "  warnings.warn('`model.predict_classes()` is deprecated and '\n"
     ]
    }
   ],
   "source": [
    "y_pred =  model.predict_classes(x_test)"
   ]
  },
  {
   "cell_type": "code",
   "execution_count": 14,
   "metadata": {},
   "outputs": [
    {
     "data": {
      "text/plain": [
       "array([[13488,    71,    59,    63,    31,    39,    94,    55,    67,\n",
       "           60,    40,    20,    49,    33,    22,    31,    22],\n",
       "       [   34,   468,     0,     0,     0,     0,     0,     0,     0,\n",
       "            0,     0,     0,     0,     0,     0,     0,     0],\n",
       "       [   25,     0,   906,     0,     0,     0,     0,     0,     0,\n",
       "            0,     0,     0,     0,     0,     0,     0,     0],\n",
       "       [   33,     0,     0,   460,     0,     1,     0,     0,     0,\n",
       "            0,     0,     0,     0,     0,     0,     0,     0],\n",
       "       [   31,     0,     0,     0,   317,     0,     0,     0,     0,\n",
       "            0,     0,     0,     0,     0,     0,     0,     0],\n",
       "       [   78,     0,     0,     2,     1,   589,     0,     0,     0,\n",
       "            0,     0,     0,     0,     0,     0,     0,     0],\n",
       "       [   23,     0,     0,     0,     0,     0,   967,     0,     0,\n",
       "            0,     0,     0,     0,     0,     0,     0,     0],\n",
       "       [   21,     0,     0,     0,     0,     0,     0,   874,     0,\n",
       "            0,     0,     0,     0,     0,     0,     0,     0],\n",
       "       [   35,     0,     0,     0,     0,     0,     0,     0,  2609,\n",
       "            0,     1,     0,     0,     0,     0,   173,     0],\n",
       "       [   22,     0,     0,     0,     0,     0,     0,     0,     0,\n",
       "         1529,     0,     0,     0,     0,     0,     0,     0],\n",
       "       [   47,     0,     0,     0,     0,     0,     0,     0,     0,\n",
       "            3,   766,     2,     0,     0,     0,     1,     0],\n",
       "       [   19,     0,     0,     0,     0,     0,     0,     0,     0,\n",
       "            0,     0,   248,     0,     0,     0,     0,     0],\n",
       "       [   21,     0,     0,     0,     0,     0,     0,     0,     0,\n",
       "            0,     0,     0,   461,     0,     0,     0,     0],\n",
       "       [   23,     0,     0,     0,     0,     0,     0,     0,     0,\n",
       "            0,     0,     0,     0,   206,     0,     0,     0],\n",
       "       [   20,     0,     0,     0,     0,     0,     0,     0,     1,\n",
       "            0,     0,     0,     0,     0,   246,     0,     0],\n",
       "       [   34,     0,     0,     0,     0,     0,     0,     0,   390,\n",
       "            0,     1,     0,     0,     0,     0,  1392,     0],\n",
       "       [   24,     0,     0,     0,     0,     0,     0,     0,     4,\n",
       "            0,     0,     0,     0,     0,     0,     0,   424]],\n",
       "      dtype=int64)"
      ]
     },
     "execution_count": 14,
     "metadata": {},
     "output_type": "execute_result"
    }
   ],
   "source": [
    "from sklearn.metrics import confusion_matrix\n",
    "cm = confusion_matrix(y_test, y_pred)\n",
    "cm"
   ]
  },
  {
   "cell_type": "code",
   "execution_count": 15,
   "metadata": {},
   "outputs": [
    {
     "data": {
      "image/png": "[encoded data removed]",
      "text/plain": [
       "<Figure size 720x576 with 2 Axes>"
      ]
     },
     "metadata": {
      "needs_background": "light"
     },
     "output_type": "display_data"
    }
   ],
   "source": [
    " df_cm = pd.DataFrame(cm[1:17, 1:17] ) # columns=np.unique(names), index = np.unique(names))\n",
    "\n",
    "\n",
    "plt.figure(figsize = (10,8))\n",
    "\n",
    "sn.set(font_scale=1.4) #for label size\n",
    "\n",
    "sn.heatmap(df_cm, cmap=\"Reds\", annot=True,annot_kws={\"size\": 17}, fmt='d')\n",
    "\n",
    "plt.savefig('cmap.png', dpi=300)"
   ]
  },
  {
   "cell_type": "code",
   "execution_count": 16,
   "metadata": {},
   "outputs": [
    {
     "data": {
      "text/plain": [
       "0.9342597926267281"
      ]
     },
     "execution_count": 16,
     "metadata": {},
     "output_type": "execute_result"
    }
   ],
   "source": [
    "from sklearn.metrics import accuracy_score\n",
    "\n",
    "accuracy_score(y_pred, y_test)"
   ]
  },
  {
   "cell_type": "code",
   "execution_count": 17,
   "metadata": {},
   "outputs": [
    {
     "name": "stdout",
     "output_type": "stream",
     "text": [
      "868/868 [==============================] - 1s 952us/step - loss: 0.2041 - accuracy: 0.9343\n",
      "0.2041158229112625 0.9342597723007202\n"
     ]
    }
   ],
   "source": [
    "val_loss, val_accuracy = model.evaluate(x_test, y_test)\n",
    "print(val_loss, val_accuracy)"
   ]
  },
  {
   "cell_type": "code",
   "execution_count": 18,
   "metadata": {},
   "outputs": [
    {
     "data": {
      "text/plain": [
       "array([2.2305454e-05, 1.7714007e-22, 0.0000000e+00, 1.4676512e-31,\n",
       "       1.6221622e-33, 9.3067997e-35, 0.0000000e+00, 0.0000000e+00,\n",
       "       1.3534756e-19, 9.9997771e-01, 5.6021292e-08, 1.3339548e-14,\n",
       "       1.4787017e-13, 7.6994447e-33, 0.0000000e+00, 2.5014389e-24,\n",
       "       6.4523636e-20], dtype=float32)"
      ]
     },
     "execution_count": 18,
     "metadata": {},
     "output_type": "execute_result"
    }
   ],
   "source": [
    "y_predicted = model.predict(x_test)\n",
    "y_predicted[15]"
   ]
  },
  {
   "cell_type": "code",
   "execution_count": 22,
   "metadata": {},
   "outputs": [
    {
     "name": "stdout",
     "output_type": "stream",
     "text": [
      "9\n"
     ]
    }
   ],
   "source": [
    "import numpy as np\n",
    "print(np.argmax(y_predicted[15]))"
   ]
  },
  {
   "cell_type": "code",
   "execution_count": 25,
   "metadata": {},
   "outputs": [
    {
     "name": "stdout",
     "output_type": "stream",
     "text": [
      "[-0.00575457  0.00491636 -0.12385196 -0.0954499  -0.097727   -0.09583641\n",
      " -0.10918082 -0.09968977 -0.09962113 -0.10259592 -0.09993859 -0.10227567\n",
      " -0.10241907 -0.10055143 -0.10256419 -0.10150526 -0.10113242 -0.10340225\n",
      " -0.10161839 -0.09921604 -0.09554961 -0.09275    -0.09101835 -0.09089238\n",
      " -0.08946214 -0.08776985 -0.08703136 -0.0849332  -0.08505171 -0.08505366\n",
      " -0.08733076 -0.08686325 -0.08915104 -0.09096262 -0.08840192 -0.07950855\n",
      " -0.06651215 -0.05489554 -0.02715634 -0.01390895 -0.00711693 -0.00526171\n",
      " -0.00278057 -0.00068067  0.00088735  0.00164418  0.00400483  0.00501076\n",
      "  0.0070171   0.00774284  0.00956439  0.0103405   0.01261917  0.01408723\n",
      "  0.01490382  0.01579599  0.01698164  0.01743803  0.01933841  0.01885824\n",
      "  0.02262929  0.0246228   0.02288615  0.02162487  0.02268758  0.01979134\n",
      "  0.02228949  0.02143311  0.02336162  0.02166568  0.02168807  0.02237043\n",
      "  0.0209029   0.02324445  0.02229322  0.02411938  0.02376045  0.02445761\n",
      "  0.02329071  0.02537924  0.02832445  0.02367361  0.02381586  0.01083604\n",
      "  0.0093203   0.0051777   0.00534279  0.00174348 -0.00030795  0.00120977\n",
      "  0.00091486  0.00323103  0.00559777  0.0020097   0.00458421 -0.00090704\n",
      "  0.00328193  0.00368446  0.00531696  0.00303474 -0.00080788 -0.00906729\n",
      " -0.00997033 -0.01519619 -0.02139934 -0.03025059 -0.02440891  0.00051549\n",
      " -0.03007665 -0.02173764 -0.02857605 -0.0198026  -0.09092519 -0.07580893\n",
      " -0.06757555 -0.07807493 -0.07521097 -0.07274221 -0.07227783 -0.07511964\n",
      " -0.07467523 -0.07421769 -0.07414117 -0.0734498  -0.0736977  -0.07325981\n",
      " -0.0731441  -0.07382151 -0.07274128 -0.0751781  -0.07267311 -0.07187466\n",
      " -0.07397616 -0.07178637 -0.07110638 -0.07250577 -0.07199487 -0.07305762\n",
      " -0.07303565 -0.074862   -0.07438049 -0.07827039 -0.07903862 -0.07927349\n",
      " -0.0780238  -0.07936093 -0.07917233 -0.07631097 -0.07604053 -0.07330843\n",
      " -0.06931232 -0.06313013 -0.06592448 -0.01377329 -0.00604029 -0.01446591\n",
      " -0.02603372 -0.066395   -0.0059753  -0.07954907 -0.00631762 -0.03856448\n",
      " -0.00520791 -0.00296667 -0.02190823 -0.03725042 -0.08323503 -0.07888593\n",
      " -0.08439108 -0.08457994 -0.08290933 -0.08389988 -0.08398576 -0.08562063\n",
      " -0.08428517 -0.08355406 -0.0839004  -0.08576901 -0.08581441 -0.08395998\n",
      " -0.08520535 -0.08451193 -0.0823047  -0.08468216 -0.08506281 -0.08534144\n",
      " -0.08504992 -0.08547028 -0.08460771 -0.08675145 -0.08493222 -0.08223261\n",
      " -0.08686047 -0.08255192 -0.08289899 -0.0838011  -0.08080528 -0.08182534\n",
      " -0.08483942 -0.08528798 -0.08301213 -0.08288327 -0.08551289 -0.08551061\n",
      " -0.08786697 -0.0840436  -0.08520936 -0.08794702 -0.08678023 -0.0823341\n",
      " -0.08397789 -0.09034846 -0.08234021 -0.08585703 -0.08305395 -0.08552255\n",
      " -0.08202127 -0.08739411 -0.08630589 -0.08183239 -0.09341123 -0.10461546\n",
      " -0.05815285 -0.0878746 ]\n"
     ]
    }
   ],
   "source": [
    "print(x_train[155])"
   ]
  },
  {
   "cell_type": "code",
   "execution_count": null,
   "metadata": {},
   "outputs": [],
   "source": []
  }
 ],
 "metadata": {
  "kernelspec": {
   "display_name": "Python 3",
   "language": "python",
   "name": "python3"
  },
  "language_info": {
   "codemirror_mode": {
    "name": "ipython",
    "version": 3
   },
   "file_extension": ".py",
   "mimetype": "text/x-python",
   "name": "python",
   "nbconvert_exporter": "python",
   "pygments_lexer": "ipython3",
   "version": "3.8.5"
  }
 },
 "nbformat": 4,
 "nbformat_minor": 4
}

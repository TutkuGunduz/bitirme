{
 "cells": [
  {
   "cell_type": "code",
   "execution_count": 4,
   "metadata": {},
   "outputs": [
    {
     "name": "stdout",
     "output_type": "stream",
     "text": [
      "(377856, 145) (377856, 1)\n"
     ]
    }
   ],
   "source": [
    "import tensorflow as tf\n",
    "from scipy.io import loadmat\n",
    "from sklearn.model_selection import train_test_split\n",
    "import seaborn as sn \n",
    "import pandas as pd\n",
    "import matplotlib.pyplot as plt \n",
    "\n",
    "\n",
    "X = loadmat(r'C:\\Users\\Tutku\\PycharmProjects\\pythonProject24\\Botswana.mat')['Botswana']\n",
    "Y= loadmat(r'C:\\Users\\Tutku\\PycharmProjects\\pythonProject24\\Botswana_gt.mat')['Botswana_gt']\n",
    "\n",
    "x_ = X.reshape((1476*256, 145))\n",
    "y = Y.reshape((1476*256, 1))\n",
    "print(x_.shape, y.shape)"
   ]
  },
  {
   "cell_type": "code",
   "execution_count": 5,
   "metadata": {},
   "outputs": [],
   "source": [
    "from sklearn.preprocessing import StandardScaler\n",
    "sc_X = StandardScaler()\n",
    "\n",
    "x = sc_X.fit_transform(x_)\n",
    "\n",
    "(x_train, x_test, y_train, y_test) = train_test_split(x, y, test_size = 0.25, random_state=0, stratify=y)"
   ]
  },
  {
   "cell_type": "code",
   "execution_count": 6,
   "metadata": {},
   "outputs": [],
   "source": [
    "x_train = tf.keras.utils.normalize(x_train, axis = 1)\n",
    "x_test = tf.keras.utils.normalize(x_test, axis = 1)"
   ]
  },
  {
   "cell_type": "code",
   "execution_count": 10,
   "metadata": {},
   "outputs": [],
   "source": [
    "model = tf.keras.models.Sequential()\n",
    "model.add(tf.keras.layers.Flatten())\n",
    "model.add(tf.keras.layers.Dense(256, activation = tf.nn.relu))\n",
    "model.add(tf.keras.layers.Dense(256, activation = tf.nn.relu))\n",
    "model.add(tf.keras.layers.Dense(15, activation = tf.nn.softmax))\n"
   ]
  },
  {
   "cell_type": "code",
   "execution_count": 11,
   "metadata": {},
   "outputs": [],
   "source": [
    "model.compile(optimizer='adam', loss='sparse_categorical_crossentropy', metrics=['accuracy'])\n",
    "import numpy as np\n",
    "# x_train = np.array(y_train)"
   ]
  },
  {
   "cell_type": "code",
   "execution_count": 12,
   "metadata": {},
   "outputs": [
    {
     "name": "stdout",
     "output_type": "stream",
     "text": [
      "Epoch 1/150\n",
      "1107/1107 [==============================] - 4s 3ms/step - loss: 0.1969 - accuracy: 0.9829\n",
      "Epoch 2/150\n",
      "1107/1107 [==============================] - 4s 3ms/step - loss: 0.0503 - accuracy: 0.9916\n",
      "Epoch 3/150\n",
      "1107/1107 [==============================] - 4s 3ms/step - loss: 0.0459 - accuracy: 0.9916\n",
      "Epoch 4/150\n",
      "1107/1107 [==============================] - 3s 3ms/step - loss: 0.0443 - accuracy: 0.9914\n",
      "Epoch 5/150\n",
      "1107/1107 [==============================] - 3s 3ms/step - loss: 0.0432 - accuracy: 0.9912\n",
      "Epoch 6/150\n",
      "1107/1107 [==============================] - 4s 3ms/step - loss: 0.0421 - accuracy: 0.9914\n",
      "Epoch 7/150\n",
      "1107/1107 [==============================] - 4s 3ms/step - loss: 0.0411 - accuracy: 0.9914\n",
      "Epoch 8/150\n",
      "1107/1107 [==============================] - 4s 3ms/step - loss: 0.0389 - accuracy: 0.9916\n",
      "Epoch 9/150\n",
      "1107/1107 [==============================] - 4s 3ms/step - loss: 0.0391 - accuracy: 0.9914\n",
      "Epoch 10/150\n",
      "1107/1107 [==============================] - 4s 3ms/step - loss: 0.0389 - accuracy: 0.9914\n",
      "Epoch 11/150\n",
      "1107/1107 [==============================] - 4s 4ms/step - loss: 0.0383 - accuracy: 0.9914\n",
      "Epoch 12/150\n",
      "1107/1107 [==============================] - 4s 4ms/step - loss: 0.0385 - accuracy: 0.9911\n",
      "Epoch 13/150\n",
      "1107/1107 [==============================] - 4s 4ms/step - loss: 0.0363 - accuracy: 0.9915\n",
      "Epoch 14/150\n",
      "1107/1107 [==============================] - 4s 4ms/step - loss: 0.0356 - accuracy: 0.9916\n",
      "Epoch 15/150\n",
      "1107/1107 [==============================] - 4s 3ms/step - loss: 0.0359 - accuracy: 0.9914\n",
      "Epoch 16/150\n",
      "1107/1107 [==============================] - 4s 3ms/step - loss: 0.0352 - accuracy: 0.9915\n",
      "Epoch 17/150\n",
      "1107/1107 [==============================] - 3s 3ms/step - loss: 0.0349 - accuracy: 0.9915\n",
      "Epoch 18/150\n",
      "1107/1107 [==============================] - 4s 4ms/step - loss: 0.0353 - accuracy: 0.9913\n",
      "Epoch 19/150\n",
      "1107/1107 [==============================] - 4s 4ms/step - loss: 0.0347 - accuracy: 0.9913\n",
      "Epoch 20/150\n",
      "1107/1107 [==============================] - 4s 4ms/step - loss: 0.0345 - accuracy: 0.9914\n",
      "Epoch 21/150\n",
      "1107/1107 [==============================] - 4s 3ms/step - loss: 0.0335 - accuracy: 0.9916\n",
      "Epoch 22/150\n",
      "1107/1107 [==============================] - 4s 3ms/step - loss: 0.0326 - accuracy: 0.9917\n",
      "Epoch 23/150\n",
      "1107/1107 [==============================] - 4s 3ms/step - loss: 0.0310 - accuracy: 0.9921\n",
      "Epoch 24/150\n",
      "1107/1107 [==============================] - 4s 3ms/step - loss: 0.0313 - accuracy: 0.9920\n",
      "Epoch 25/150\n",
      "1107/1107 [==============================] - 4s 3ms/step - loss: 0.0315 - accuracy: 0.9918\n",
      "Epoch 26/150\n",
      "1107/1107 [==============================] - 4s 3ms/step - loss: 0.0297 - accuracy: 0.9923\n",
      "Epoch 27/150\n",
      "1107/1107 [==============================] - 4s 3ms/step - loss: 0.0297 - accuracy: 0.9923\n",
      "Epoch 28/150\n",
      "1107/1107 [==============================] - 4s 3ms/step - loss: 0.0296 - accuracy: 0.9921\n",
      "Epoch 29/150\n",
      "1107/1107 [==============================] - 4s 3ms/step - loss: 0.0294 - accuracy: 0.9925\n",
      "Epoch 30/150\n",
      "1107/1107 [==============================] - 4s 3ms/step - loss: 0.0285 - accuracy: 0.9923\n",
      "Epoch 31/150\n",
      "1107/1107 [==============================] - 4s 3ms/step - loss: 0.0290 - accuracy: 0.9923\n",
      "Epoch 32/150\n",
      "1107/1107 [==============================] - 4s 3ms/step - loss: 0.0283 - accuracy: 0.9923\n",
      "Epoch 33/150\n",
      "1107/1107 [==============================] - 4s 3ms/step - loss: 0.0278 - accuracy: 0.9926\n",
      "Epoch 34/150\n",
      "1107/1107 [==============================] - 4s 3ms/step - loss: 0.0282 - accuracy: 0.9925\n",
      "Epoch 35/150\n",
      "1107/1107 [==============================] - 4s 3ms/step - loss: 0.0273 - accuracy: 0.9926\n",
      "Epoch 36/150\n",
      "1107/1107 [==============================] - 4s 3ms/step - loss: 0.0276 - accuracy: 0.9925\n",
      "Epoch 37/150\n",
      "1107/1107 [==============================] - 4s 3ms/step - loss: 0.0268 - accuracy: 0.9928\n",
      "Epoch 38/150\n",
      "1107/1107 [==============================] - 4s 3ms/step - loss: 0.0269 - accuracy: 0.9928\n",
      "Epoch 39/150\n",
      "1107/1107 [==============================] - 4s 4ms/step - loss: 0.0269 - accuracy: 0.9927\n",
      "Epoch 40/150\n",
      "1107/1107 [==============================] - 4s 3ms/step - loss: 0.0272 - accuracy: 0.9926\n",
      "Epoch 41/150\n",
      "1107/1107 [==============================] - 4s 3ms/step - loss: 0.0269 - accuracy: 0.9927\n",
      "Epoch 42/150\n",
      "1107/1107 [==============================] - 4s 4ms/step - loss: 0.0262 - accuracy: 0.9929\n",
      "Epoch 43/150\n",
      "1107/1107 [==============================] - 4s 4ms/step - loss: 0.0260 - accuracy: 0.9930\n",
      "Epoch 44/150\n",
      "1107/1107 [==============================] - 4s 4ms/step - loss: 0.0260 - accuracy: 0.9929\n",
      "Epoch 45/150\n",
      "1107/1107 [==============================] - 4s 3ms/step - loss: 0.0247 - accuracy: 0.9931\n",
      "Epoch 46/150\n",
      "1107/1107 [==============================] - 4s 3ms/step - loss: 0.0249 - accuracy: 0.9931\n",
      "Epoch 47/150\n",
      "1107/1107 [==============================] - 4s 3ms/step - loss: 0.0249 - accuracy: 0.9929\n",
      "Epoch 48/150\n",
      "1107/1107 [==============================] - 4s 3ms/step - loss: 0.0239 - accuracy: 0.9932\n",
      "Epoch 49/150\n",
      "1107/1107 [==============================] - 4s 3ms/step - loss: 0.0243 - accuracy: 0.9931\n",
      "Epoch 50/150\n",
      "1107/1107 [==============================] - 4s 3ms/step - loss: 0.0240 - accuracy: 0.9932\n",
      "Epoch 51/150\n",
      "1107/1107 [==============================] - 4s 3ms/step - loss: 0.0239 - accuracy: 0.9933\n",
      "Epoch 52/150\n",
      "1107/1107 [==============================] - 5s 4ms/step - loss: 0.0234 - accuracy: 0.9934\n",
      "Epoch 53/150\n",
      "1107/1107 [==============================] - 4s 4ms/step - loss: 0.0229 - accuracy: 0.9935\n",
      "Epoch 54/150\n",
      "1107/1107 [==============================] - 4s 3ms/step - loss: 0.0231 - accuracy: 0.9935\n",
      "Epoch 55/150\n",
      "1107/1107 [==============================] - 4s 4ms/step - loss: 0.0235 - accuracy: 0.9931\n",
      "Epoch 56/150\n",
      "1107/1107 [==============================] - 4s 4ms/step - loss: 0.0230 - accuracy: 0.9934\n",
      "Epoch 57/150\n",
      "1107/1107 [==============================] - 4s 3ms/step - loss: 0.0221 - accuracy: 0.9937\n",
      "Epoch 58/150\n",
      "1107/1107 [==============================] - 4s 4ms/step - loss: 0.0226 - accuracy: 0.9935\n",
      "Epoch 59/150\n",
      "1107/1107 [==============================] - 4s 3ms/step - loss: 0.0224 - accuracy: 0.9936\n",
      "Epoch 60/150\n",
      "1107/1107 [==============================] - 4s 3ms/step - loss: 0.0224 - accuracy: 0.9934\n",
      "Epoch 61/150\n",
      "1107/1107 [==============================] - 4s 3ms/step - loss: 0.0215 - accuracy: 0.9937\n",
      "Epoch 62/150\n",
      "1107/1107 [==============================] - 4s 3ms/step - loss: 0.0222 - accuracy: 0.9937\n",
      "Epoch 63/150\n",
      "1107/1107 [==============================] - 4s 3ms/step - loss: 0.0208 - accuracy: 0.9940\n",
      "Epoch 64/150\n",
      "1107/1107 [==============================] - 4s 3ms/step - loss: 0.0220 - accuracy: 0.9935\n",
      "Epoch 65/150\n",
      "1107/1107 [==============================] - 4s 4ms/step - loss: 0.0211 - accuracy: 0.9939\n",
      "Epoch 66/150\n",
      "1107/1107 [==============================] - 4s 4ms/step - loss: 0.0200 - accuracy: 0.9941\n",
      "Epoch 67/150\n",
      "1107/1107 [==============================] - 4s 3ms/step - loss: 0.0210 - accuracy: 0.9938\n",
      "Epoch 68/150\n",
      "1107/1107 [==============================] - 4s 3ms/step - loss: 0.0201 - accuracy: 0.9940\n",
      "Epoch 69/150\n",
      "1107/1107 [==============================] - 4s 3ms/step - loss: 0.0211 - accuracy: 0.9937\n",
      "Epoch 70/150\n",
      "1107/1107 [==============================] - 4s 3ms/step - loss: 0.0194 - accuracy: 0.9942\n",
      "Epoch 71/150\n",
      "1107/1107 [==============================] - 4s 3ms/step - loss: 0.0203 - accuracy: 0.9940\n",
      "Epoch 72/150\n",
      "1107/1107 [==============================] - 4s 3ms/step - loss: 0.0204 - accuracy: 0.9938\n",
      "Epoch 73/150\n",
      "1107/1107 [==============================] - 4s 3ms/step - loss: 0.0193 - accuracy: 0.9941\n",
      "Epoch 74/150\n",
      "1107/1107 [==============================] - 4s 3ms/step - loss: 0.0195 - accuracy: 0.9942\n",
      "Epoch 75/150\n",
      "1107/1107 [==============================] - 4s 3ms/step - loss: 0.0197 - accuracy: 0.9941\n",
      "Epoch 76/150\n",
      "1107/1107 [==============================] - 4s 3ms/step - loss: 0.0190 - accuracy: 0.9944\n",
      "Epoch 77/150\n",
      "1107/1107 [==============================] - 4s 3ms/step - loss: 0.0191 - accuracy: 0.9944\n",
      "Epoch 78/150\n",
      "1107/1107 [==============================] - 4s 3ms/step - loss: 0.0184 - accuracy: 0.9945\n",
      "Epoch 79/150\n",
      "1107/1107 [==============================] - 4s 3ms/step - loss: 0.0190 - accuracy: 0.9941\n",
      "Epoch 80/150\n",
      "1107/1107 [==============================] - 4s 3ms/step - loss: 0.0177 - accuracy: 0.9946\n",
      "Epoch 81/150\n",
      "1107/1107 [==============================] - 4s 3ms/step - loss: 0.0182 - accuracy: 0.9946\n",
      "Epoch 82/150\n",
      "1107/1107 [==============================] - 4s 3ms/step - loss: 0.0180 - accuracy: 0.9944\n",
      "Epoch 83/150\n",
      "1107/1107 [==============================] - 4s 3ms/step - loss: 0.0183 - accuracy: 0.9944\n",
      "Epoch 84/150\n",
      "1107/1107 [==============================] - 4s 3ms/step - loss: 0.0179 - accuracy: 0.9947\n",
      "Epoch 85/150\n",
      "1107/1107 [==============================] - 4s 4ms/step - loss: 0.0172 - accuracy: 0.9948\n",
      "Epoch 86/150\n",
      "1107/1107 [==============================] - 4s 3ms/step - loss: 0.0175 - accuracy: 0.9947\n",
      "Epoch 87/150\n",
      "1107/1107 [==============================] - 5s 4ms/step - loss: 0.0168 - accuracy: 0.9948\n",
      "Epoch 88/150\n",
      "1107/1107 [==============================] - 4s 4ms/step - loss: 0.0173 - accuracy: 0.9947\n",
      "Epoch 89/150\n",
      "1107/1107 [==============================] - 4s 3ms/step - loss: 0.0167 - accuracy: 0.9950\n",
      "Epoch 90/150\n",
      "1107/1107 [==============================] - 3s 3ms/step - loss: 0.0179 - accuracy: 0.9946\n",
      "Epoch 91/150\n",
      "1107/1107 [==============================] - 4s 3ms/step - loss: 0.0165 - accuracy: 0.9950\n",
      "Epoch 92/150\n",
      "1107/1107 [==============================] - 4s 3ms/step - loss: 0.0167 - accuracy: 0.9949\n",
      "Epoch 93/150\n",
      "1107/1107 [==============================] - 4s 4ms/step - loss: 0.0158 - accuracy: 0.9952\n",
      "Epoch 94/150\n",
      "1107/1107 [==============================] - 4s 4ms/step - loss: 0.0164 - accuracy: 0.9948\n",
      "Epoch 95/150\n",
      "1107/1107 [==============================] - 4s 3ms/step - loss: 0.0167 - accuracy: 0.9949\n",
      "Epoch 96/150\n",
      "1107/1107 [==============================] - 4s 4ms/step - loss: 0.0168 - accuracy: 0.9949\n",
      "Epoch 97/150\n",
      "1107/1107 [==============================] - 4s 4ms/step - loss: 0.0159 - accuracy: 0.9952\n",
      "Epoch 98/150\n",
      "1107/1107 [==============================] - 4s 4ms/step - loss: 0.0163 - accuracy: 0.9949\n",
      "Epoch 99/150\n",
      "1107/1107 [==============================] - 4s 4ms/step - loss: 0.0160 - accuracy: 0.9950\n",
      "Epoch 100/150\n",
      "1107/1107 [==============================] - 4s 4ms/step - loss: 0.0155 - accuracy: 0.9953\n",
      "Epoch 101/150\n",
      "1107/1107 [==============================] - 4s 4ms/step - loss: 0.0155 - accuracy: 0.9953\n",
      "Epoch 102/150\n",
      "1107/1107 [==============================] - 4s 3ms/step - loss: 0.0155 - accuracy: 0.9951\n",
      "Epoch 103/150\n",
      "1107/1107 [==============================] - 4s 3ms/step - loss: 0.0152 - accuracy: 0.9953\n",
      "Epoch 104/150\n",
      "1107/1107 [==============================] - 4s 3ms/step - loss: 0.0160 - accuracy: 0.9950\n",
      "Epoch 105/150\n",
      "1107/1107 [==============================] - 4s 3ms/step - loss: 0.0150 - accuracy: 0.9954\n",
      "Epoch 106/150\n",
      "1107/1107 [==============================] - 4s 3ms/step - loss: 0.0154 - accuracy: 0.9952\n",
      "Epoch 107/150\n",
      "1107/1107 [==============================] - 4s 3ms/step - loss: 0.0149 - accuracy: 0.9953\n",
      "Epoch 108/150\n",
      "1107/1107 [==============================] - 4s 3ms/step - loss: 0.0147 - accuracy: 0.9954\n",
      "Epoch 109/150\n",
      "1107/1107 [==============================] - 4s 3ms/step - loss: 0.0149 - accuracy: 0.9954\n",
      "Epoch 110/150\n",
      "1107/1107 [==============================] - 4s 3ms/step - loss: 0.0149 - accuracy: 0.9954\n",
      "Epoch 111/150\n",
      "1107/1107 [==============================] - 4s 3ms/step - loss: 0.0146 - accuracy: 0.9955\n",
      "Epoch 112/150\n",
      "1107/1107 [==============================] - 4s 3ms/step - loss: 0.0135 - accuracy: 0.9958\n",
      "Epoch 113/150\n",
      "1107/1107 [==============================] - 4s 3ms/step - loss: 0.0150 - accuracy: 0.9952\n",
      "Epoch 114/150\n",
      "1107/1107 [==============================] - 4s 3ms/step - loss: 0.0144 - accuracy: 0.9955\n",
      "Epoch 115/150\n",
      "1107/1107 [==============================] - 4s 3ms/step - loss: 0.0140 - accuracy: 0.9956\n",
      "Epoch 116/150\n",
      "1107/1107 [==============================] - 4s 3ms/step - loss: 0.0146 - accuracy: 0.9954\n",
      "Epoch 117/150\n",
      "1107/1107 [==============================] - 4s 3ms/step - loss: 0.0139 - accuracy: 0.9956\n",
      "Epoch 118/150\n",
      "1107/1107 [==============================] - 4s 3ms/step - loss: 0.0148 - accuracy: 0.9953\n",
      "Epoch 119/150\n",
      "1107/1107 [==============================] - 4s 3ms/step - loss: 0.0139 - accuracy: 0.9955\n",
      "Epoch 120/150\n",
      "1107/1107 [==============================] - 4s 3ms/step - loss: 0.0136 - accuracy: 0.9958\n",
      "Epoch 121/150\n",
      "1107/1107 [==============================] - 4s 3ms/step - loss: 0.0139 - accuracy: 0.9958\n",
      "Epoch 122/150\n",
      "1107/1107 [==============================] - 4s 3ms/step - loss: 0.0137 - accuracy: 0.9958\n",
      "Epoch 123/150\n",
      "1107/1107 [==============================] - 4s 3ms/step - loss: 0.0134 - accuracy: 0.9957\n",
      "Epoch 124/150\n",
      "1107/1107 [==============================] - 4s 3ms/step - loss: 0.0130 - accuracy: 0.9958\n",
      "Epoch 125/150\n",
      "1107/1107 [==============================] - 4s 3ms/step - loss: 0.0141 - accuracy: 0.9957\n",
      "Epoch 126/150\n",
      "1107/1107 [==============================] - 4s 3ms/step - loss: 0.0130 - accuracy: 0.9960\n",
      "Epoch 127/150\n",
      "1107/1107 [==============================] - 4s 3ms/step - loss: 0.0130 - accuracy: 0.9959\n",
      "Epoch 128/150\n",
      "1107/1107 [==============================] - 4s 3ms/step - loss: 0.0127 - accuracy: 0.9962\n",
      "Epoch 129/150\n",
      "1107/1107 [==============================] - 4s 3ms/step - loss: 0.0133 - accuracy: 0.9957\n",
      "Epoch 130/150\n",
      "1107/1107 [==============================] - 4s 3ms/step - loss: 0.0130 - accuracy: 0.9959\n",
      "Epoch 131/150\n",
      "1107/1107 [==============================] - 4s 3ms/step - loss: 0.0136 - accuracy: 0.9959\n",
      "Epoch 132/150\n",
      "1107/1107 [==============================] - 4s 3ms/step - loss: 0.0134 - accuracy: 0.9958\n",
      "Epoch 133/150\n",
      "1107/1107 [==============================] - ETA: 0s - loss: 0.0124 - accuracy: 0.99 - 4s 3ms/step - loss: 0.0124 - accuracy: 0.9962\n",
      "Epoch 134/150\n",
      "1107/1107 [==============================] - 4s 3ms/step - loss: 0.0130 - accuracy: 0.9960\n",
      "Epoch 135/150\n",
      "1107/1107 [==============================] - 4s 3ms/step - loss: 0.0127 - accuracy: 0.9961\n",
      "Epoch 136/150\n",
      "1107/1107 [==============================] - 4s 3ms/step - loss: 0.0125 - accuracy: 0.9961\n",
      "Epoch 137/150\n",
      "1107/1107 [==============================] - 4s 3ms/step - loss: 0.0120 - accuracy: 0.9964\n",
      "Epoch 138/150\n",
      "1107/1107 [==============================] - 4s 3ms/step - loss: 0.0126 - accuracy: 0.9960\n",
      "Epoch 139/150\n",
      "1107/1107 [==============================] - 5s 4ms/step - loss: 0.0124 - accuracy: 0.9961\n",
      "Epoch 140/150\n",
      "1107/1107 [==============================] - 4s 3ms/step - loss: 0.0125 - accuracy: 0.9960\n",
      "Epoch 141/150\n",
      "1107/1107 [==============================] - 4s 3ms/step - loss: 0.0123 - accuracy: 0.9961\n",
      "Epoch 142/150\n",
      "1107/1107 [==============================] - 4s 3ms/step - loss: 0.0117 - accuracy: 0.9964\n",
      "Epoch 143/150\n",
      "1107/1107 [==============================] - 4s 4ms/step - loss: 0.0111 - accuracy: 0.9966\n",
      "Epoch 144/150\n",
      "1107/1107 [==============================] - 4s 3ms/step - loss: 0.0125 - accuracy: 0.9962\n",
      "Epoch 145/150\n",
      "1107/1107 [==============================] - 4s 3ms/step - loss: 0.0122 - accuracy: 0.9961\n",
      "Epoch 146/150\n",
      "1107/1107 [==============================] - 4s 3ms/step - loss: 0.0120 - accuracy: 0.9962\n",
      "Epoch 147/150\n",
      "1107/1107 [==============================] - 4s 4ms/step - loss: 0.0121 - accuracy: 0.9961\n",
      "Epoch 148/150\n",
      "1107/1107 [==============================] - 4s 3ms/step - loss: 0.0117 - accuracy: 0.9964\n",
      "Epoch 149/150\n",
      "1107/1107 [==============================] - 4s 3ms/step - loss: 0.0116 - accuracy: 0.9963\n",
      "Epoch 150/150\n",
      "1107/1107 [==============================] - 4s 4ms/step - loss: 0.0123 - accuracy: 0.9961\n"
     ]
    },
    {
     "data": {
      "text/plain": [
       "<tensorflow.python.keras.callbacks.History at 0x20caacd6dc0>"
      ]
     },
     "execution_count": 12,
     "metadata": {},
     "output_type": "execute_result"
    }
   ],
   "source": [
    "model.fit(x_train, y_train, batch_size=256, epochs=150)"
   ]
  },
  {
   "cell_type": "code",
   "execution_count": 13,
   "metadata": {},
   "outputs": [
    {
     "name": "stderr",
     "output_type": "stream",
     "text": [
      "C:\\Anaconda\\lib\\site-packages\\tensorflow\\python\\keras\\engine\\sequential.py:450: UserWarning: `model.predict_classes()` is deprecated and will be removed after 2021-01-01. Please use instead:* `np.argmax(model.predict(x), axis=-1)`,   if your model does multi-class classification   (e.g. if it uses a `softmax` last-layer activation).* `(model.predict(x) > 0.5).astype(\"int32\")`,   if your model does binary classification   (e.g. if it uses a `sigmoid` last-layer activation).\n",
      "  warnings.warn('`model.predict_classes()` is deprecated and '\n"
     ]
    }
   ],
   "source": [
    "y_pred =  model.predict_classes(x_test)"
   ]
  },
  {
   "cell_type": "code",
   "execution_count": 14,
   "metadata": {},
   "outputs": [
    {
     "data": {
      "text/plain": [
       "array([[93401,     0,     3,    21,    13,    34,     2,    19,    15,\n",
       "           54,    32,    26,    12,    17,     3],\n",
       "       [   67,     0,     0,     0,     0,     0,     0,     0,     0,\n",
       "            0,     0,     0,     0,     0,     0],\n",
       "       [   23,     0,     2,     0,     0,     0,     0,     0,     0,\n",
       "            0,     0,     0,     0,     0,     0],\n",
       "       [   38,     0,     0,    25,     0,     0,     0,     0,     0,\n",
       "            0,     0,     0,     0,     0,     0],\n",
       "       [   36,     0,     0,     0,    18,     0,     0,     0,     0,\n",
       "            0,     0,     0,     0,     0,     0],\n",
       "       [   65,     0,     0,     0,     0,     2,     0,     0,     0,\n",
       "            0,     0,     0,     0,     0,     0],\n",
       "       [   64,     0,     0,     0,     0,     0,     3,     0,     0,\n",
       "            0,     0,     0,     0,     0,     0],\n",
       "       [   40,     0,     0,     0,     0,     0,     0,    25,     0,\n",
       "            0,     0,     0,     0,     0,     0],\n",
       "       [   39,     0,     0,     0,     0,     0,     0,     0,    12,\n",
       "            0,     0,     0,     0,     0,     0],\n",
       "       [   65,     0,     0,     0,     0,     0,     0,     0,     0,\n",
       "           14,     0,     0,     0,     0,     0],\n",
       "       [   37,     0,     0,     0,     0,     0,     0,     0,     0,\n",
       "            0,    25,     0,     0,     0,     0],\n",
       "       [   40,     0,     0,     0,     0,     0,     0,     0,     0,\n",
       "            0,     0,    36,     0,     0,     0],\n",
       "       [   35,     0,     0,     0,     0,     0,     0,     0,     0,\n",
       "            0,     0,     0,    10,     0,     0],\n",
       "       [   52,     0,     0,     0,     0,     0,     0,     0,     0,\n",
       "            0,     0,     0,     0,    15,     0],\n",
       "       [   16,     0,     0,     0,     0,     0,     0,     0,     0,\n",
       "            0,     0,     0,     0,     0,     8]], dtype=int64)"
      ]
     },
     "execution_count": 14,
     "metadata": {},
     "output_type": "execute_result"
    }
   ],
   "source": [
    "from sklearn.metrics import confusion_matrix\n",
    "cm = confusion_matrix(y_test, y_pred)\n",
    "cm"
   ]
  },
  {
   "cell_type": "code",
   "execution_count": 15,
   "metadata": {},
   "outputs": [
    {
     "data": {
      "image/png": "[encoded data removed]",
      "text/plain": [
       "<Figure size 720x576 with 2 Axes>"
      ]
     },
     "metadata": {
      "needs_background": "light"
     },
     "output_type": "display_data"
    }
   ],
   "source": [
    " df_cm = pd.DataFrame(cm[1:15, 1:15] ) # columns=np.unique(names), index = np.unique(names))\n",
    "\n",
    "\n",
    "plt.figure(figsize = (10,8))\n",
    "\n",
    "sn.set(font_scale=1.4) #for label size\n",
    "\n",
    "sn.heatmap(df_cm, cmap=\"Reds\", annot=True,annot_kws={\"size\": 15}, fmt='d')\n",
    "\n",
    "plt.savefig('cmap.png', dpi=300)"
   ]
  },
  {
   "cell_type": "code",
   "execution_count": 16,
   "metadata": {},
   "outputs": [
    {
     "data": {
      "text/plain": [
       "0.9908113143631436"
      ]
     },
     "execution_count": 16,
     "metadata": {},
     "output_type": "execute_result"
    }
   ],
   "source": [
    "from sklearn.metrics import accuracy_score\n",
    "\n",
    "accuracy_score(y_pred, y_test)"
   ]
  },
  {
   "cell_type": "code",
   "execution_count": 17,
   "metadata": {},
   "outputs": [
    {
     "name": "stdout",
     "output_type": "stream",
     "text": [
      "2952/2952 [==============================] - 3s 959us/step - loss: 0.0630 - accuracy: 0.9908\n",
      "0.06299515813589096 0.990811288356781\n"
     ]
    }
   ],
   "source": [
    "val_loss, val_accuracy = model.evaluate(x_test, y_test)\n",
    "print(val_loss, val_accuracy)"
   ]
  },
  {
   "cell_type": "code",
   "execution_count": 18,
   "metadata": {},
   "outputs": [
    {
     "data": {
      "text/plain": [
       "array([1.00000000e+00, 1.53193085e-30, 0.00000000e+00, 9.49050637e-26,\n",
       "       5.40878462e-19, 2.47164100e-19, 8.46664289e-17, 4.85390786e-38,\n",
       "       1.87592848e-13, 1.35147495e-16, 1.25818182e-30, 2.45291182e-19,\n",
       "       1.24958612e-23, 1.37141764e-31, 1.05927413e-13], dtype=float32)"
      ]
     },
     "execution_count": 18,
     "metadata": {},
     "output_type": "execute_result"
    }
   ],
   "source": [
    "y_predicted = model.predict(x_test)\n",
    "y_predicted[15]"
   ]
  },
  {
   "cell_type": "code",
   "execution_count": 19,
   "metadata": {},
   "outputs": [
    {
     "name": "stdout",
     "output_type": "stream",
     "text": [
      "0\n"
     ]
    }
   ],
   "source": [
    "import numpy as np\n",
    "print(np.argmax(y_predicted[15]))"
   ]
  },
  {
   "cell_type": "code",
   "execution_count": 20,
   "metadata": {},
   "outputs": [
    {
     "name": "stdout",
     "output_type": "stream",
     "text": [
      "[0.08407478 0.0287686  0.02557615 0.04603596 0.04938561 0.04026796\n",
      " 0.03681298 0.03091848 0.03783688 0.0314878  0.03466749 0.03802781\n",
      " 0.03059851 0.03688996 0.0299982  0.03366896 0.03669131 0.04034116\n",
      " 0.03143011 0.03508525 0.0394683  0.03980964 0.03489238 0.04323063\n",
      " 0.04115016 0.04990918 0.04398227 0.05953844 0.06781122 0.06277975\n",
      " 0.05036715 0.06726494 0.07013115 0.07042133 0.06243167 0.06121672\n",
      " 0.05816085 0.06516626 0.07598757 0.07261996 0.06583321 0.07178341\n",
      " 0.06318192 0.06011887 0.07692522 0.07764478 0.06387958 0.06982416\n",
      " 0.07248349 0.09826435 0.09947248 0.06835181 0.06693755 0.07822512\n",
      " 0.07942126 0.07441131 0.07511897 0.07912237 0.08008378 0.07210955\n",
      " 0.08264085 0.0999955  0.08854322 0.08936386 0.08742025 0.08150543\n",
      " 0.07312472 0.07926685 0.07985806 0.08083391 0.08392155 0.07880231\n",
      " 0.0789362  0.09970777 0.10316472 0.08820267 0.08420421 0.08760827\n",
      " 0.0931133  0.07024415 0.10017715 0.11332426 0.1124777  0.09742579\n",
      " 0.10816842 0.09332735 0.08904971 0.10604193 0.10131158 0.08983304\n",
      " 0.08890221 0.08599916 0.08297473 0.09766497 0.10526919 0.09530385\n",
      " 0.09761305 0.08596244 0.08383155 0.10181082 0.09993784 0.10591818\n",
      " 0.1037351  0.0972791  0.09855847 0.102279   0.10413921 0.10214786\n",
      " 0.0976777  0.08323883 0.08459137 0.12358598 0.11051197 0.08160647\n",
      " 0.07844106 0.10620056 0.10830266 0.10264298 0.10331632 0.11036172\n",
      " 0.11592184 0.10973645 0.10819946 0.10090013 0.10092889 0.09160659\n",
      " 0.0918624  0.06753082 0.06699383 0.08331995 0.06987363 0.09317055\n",
      " 0.08838902 0.11907751 0.12887259 0.1171836  0.12274677 0.11193223\n",
      " 0.10915441 0.11408205 0.11090233 0.09609267 0.09997019 0.0662637\n",
      " 0.04980293]\n"
     ]
    }
   ],
   "source": [
    "print(x_train[155])"
   ]
  },
  {
   "cell_type": "code",
   "execution_count": null,
   "metadata": {},
   "outputs": [],
   "source": []
  }
 ],
 "metadata": {
  "kernelspec": {
   "display_name": "Python 3",
   "language": "python",
   "name": "python3"
  },
  "language_info": {
   "codemirror_mode": {
    "name": "ipython",
    "version": 3
   },
   "file_extension": ".py",
   "mimetype": "text/x-python",
   "name": "python",
   "nbconvert_exporter": "python",
   "pygments_lexer": "ipython3",
   "version": "3.8.5"
  }
 },
 "nbformat": 4,
 "nbformat_minor": 4
}
